{
  "cells": [
    {
      "cell_type": "markdown",
      "source": [
        "# Pre-trained models and transfer learning\r\n",
        "\r\n",
        "Training CNNs can take a lot of time and a lot of data is required for that task. Much of the time is spent to experimenting to find the best low-level filters that a network needs to extract patterns from the images. A natural question arises - can we use a neural network trained on one dataset and adapt it to classifying different images without full training process?\r\n",
        "\r\n",
        "This approach is called **transfer learning**, because we transfer some knowledge from one neural network model to another. In transfer learning, we typically start with a pre-trained model, which has been trained on some large image dataset, such as **ImageNet**. Those models can already do a good job extracting different features from generic images, and in many cases just building a classifier on top of those extracted features can yield a good result."
      ],
      "metadata": {}
    },
    {
      "cell_type": "code",
      "execution_count": 1,
      "source": [
        "import tensorflow as tf\r\n",
        "from tensorflow import keras\r\n",
        "import matplotlib.pyplot as plt\r\n",
        "import numpy as np\r\n",
        "import os"
      ],
      "outputs": [],
      "metadata": {}
    },
    {
      "cell_type": "code",
      "execution_count": 2,
      "source": [
        "# Load tfcv.py module\r\n",
        "!wget -O tfcv.py -q https://github.com/MicrosoftDocs/tensorflow-learning-path/raw/main/computer-vision-tf/tfcv.py\r\n",
        "from tfcv import *"
      ],
      "outputs": [],
      "metadata": {}
    },
    {
      "cell_type": "markdown",
      "source": [
        "## Cats vs. Dogs Dataset\r\n",
        "\r\n",
        "In this unit, we will solve a real-life problem of classifying images of cats and dogs. For this reason, we will use [Kaggle Cats vs. Dogs Dataset](https://www.kaggle.com/c/dogs-vs-cats), which can also be downloaded [from Microsoft](https://www.microsoft.com/en-us/download/details.aspx?id=54765).\r\n",
        "\r\n",
        "Let's download this dataset and extract it into `data` directory (*this process may take some time*!):"
      ],
      "metadata": {}
    },
    {
      "cell_type": "code",
      "execution_count": 3,
      "source": [
        "if not os.path.exists('data/kagglecatsanddogs_3367a.zip'):\r\n",
        "    !mkdir -p data\r\n",
        "    !wget -P data -q https://download.microsoft.com/download/3/E/1/3E1C3F21-ECDB-4869-8368-6DEBA77B919F/kagglecatsanddogs_3367a.zip"
      ],
      "outputs": [],
      "metadata": {
        "tags": []
      }
    },
    {
      "cell_type": "code",
      "execution_count": 4,
      "source": [
        "import zipfile\r\n",
        "if not os.path.exists('data/PetImages'):\r\n",
        "    with zipfile.ZipFile('data/kagglecatsanddogs_3367a.zip', 'r') as zip_ref:\r\n",
        "        zip_ref.extractall('data')"
      ],
      "outputs": [],
      "metadata": {}
    },
    {
      "cell_type": "markdown",
      "source": [
        "Unfortunately, there are some corrupt image files in the dataset. We need to do a quick cleaning to check for corrupted files. We moved the code to verify the dataset into a module."
      ],
      "metadata": {}
    },
    {
      "cell_type": "code",
      "execution_count": 5,
      "source": [
        "check_image_dir('data/PetImages/Cat/*.jpg')\r\n",
        "check_image_dir('data/PetImages/Dog/*.jpg')"
      ],
      "outputs": [
        {
          "output_type": "stream",
          "name": "stdout",
          "text": [
            "Corrupt image or wrong format: data/PetImages/Cat/8958.jpg\n",
            "Corrupt image or wrong format: data/PetImages/Cat/2189.jpg\n",
            "Corrupt image or wrong format: data/PetImages/Cat/4629.jpg\n",
            "Corrupt image or wrong format: data/PetImages/Cat/2663.jpg\n",
            "Corrupt image or wrong format: data/PetImages/Cat/4833.jpg\n",
            "Corrupt image or wrong format: data/PetImages/Cat/10073.jpg\n",
            "Corrupt image or wrong format: data/PetImages/Cat/6768.jpg\n",
            "Corrupt image or wrong format: data/PetImages/Cat/3967.jpg\n",
            "Corrupt image or wrong format: data/PetImages/Cat/850.jpg\n",
            "Corrupt image or wrong format: data/PetImages/Cat/6486.jpg\n",
            "Corrupt image or wrong format: data/PetImages/Cat/7642.jpg\n",
            "Corrupt image or wrong format: data/PetImages/Cat/1757.jpg\n",
            "Corrupt image or wrong format: data/PetImages/Cat/910.jpg\n",
            "Corrupt image or wrong format: data/PetImages/Cat/4929.jpg\n",
            "Corrupt image or wrong format: data/PetImages/Cat/10820.jpg\n",
            "Corrupt image or wrong format: data/PetImages/Cat/6900.jpg\n",
            "Corrupt image or wrong format: data/PetImages/Cat/9619.jpg\n",
            "Corrupt image or wrong format: data/PetImages/Cat/4821.jpg\n",
            "Corrupt image or wrong format: data/PetImages/Cat/3161.jpg\n",
            "Corrupt image or wrong format: data/PetImages/Cat/5819.jpg\n",
            "Corrupt image or wrong format: data/PetImages/Cat/3300.jpg\n",
            "Corrupt image or wrong format: data/PetImages/Cat/3491.jpg\n",
            "Corrupt image or wrong format: data/PetImages/Cat/11083.jpg\n",
            "Corrupt image or wrong format: data/PetImages/Cat/8832.jpg\n",
            "Corrupt image or wrong format: data/PetImages/Cat/140.jpg\n",
            "Corrupt image or wrong format: data/PetImages/Cat/10501.jpg\n",
            "Corrupt image or wrong format: data/PetImages/Cat/8415.jpg\n",
            "Corrupt image or wrong format: data/PetImages/Cat/7978.jpg\n",
            "Corrupt image or wrong format: data/PetImages/Cat/6906.jpg\n",
            "Corrupt image or wrong format: data/PetImages/Cat/11874.jpg\n",
            "Corrupt image or wrong format: data/PetImages/Cat/11095.jpg\n",
            "Corrupt image or wrong format: data/PetImages/Cat/4351.jpg\n",
            "Corrupt image or wrong format: data/PetImages/Cat/11864.jpg\n",
            "Corrupt image or wrong format: data/PetImages/Cat/5370.jpg\n",
            "Corrupt image or wrong format: data/PetImages/Cat/6491.jpg\n",
            "Corrupt image or wrong format: data/PetImages/Cat/3710.jpg\n",
            "Corrupt image or wrong format: data/PetImages/Cat/3649.jpg\n",
            "Corrupt image or wrong format: data/PetImages/Cat/12080.jpg\n",
            "Corrupt image or wrong format: data/PetImages/Cat/1914.jpg\n",
            "Corrupt image or wrong format: data/PetImages/Cat/11565.jpg\n",
            "Corrupt image or wrong format: data/PetImages/Cat/660.jpg\n",
            "Corrupt image or wrong format: data/PetImages/Cat/5553.jpg\n",
            "Corrupt image or wrong format: data/PetImages/Cat/9328.jpg\n",
            "Corrupt image or wrong format: data/PetImages/Cat/11210.jpg\n",
            "Corrupt image or wrong format: data/PetImages/Cat/8183.jpg\n",
            "Corrupt image or wrong format: data/PetImages/Cat/9171.jpg\n",
            "Corrupt image or wrong format: data/PetImages/Cat/3153.jpg\n",
            "Corrupt image or wrong format: data/PetImages/Cat/12235.jpg\n",
            "Corrupt image or wrong format: data/PetImages/Cat/9361.jpg\n",
            "Corrupt image or wrong format: data/PetImages/Cat/8553.jpg\n",
            "Corrupt image or wrong format: data/PetImages/Cat/9778.jpg\n",
            "Corrupt image or wrong format: data/PetImages/Cat/6029.jpg\n",
            "Corrupt image or wrong format: data/PetImages/Cat/9100.jpg\n",
            "Corrupt image or wrong format: data/PetImages/Cat/1267.jpg\n",
            "Corrupt image or wrong format: data/PetImages/Cat/3197.jpg\n",
            "Corrupt image or wrong format: data/PetImages/Cat/9208.jpg\n",
            "Corrupt image or wrong format: data/PetImages/Cat/1937.jpg\n",
            "Corrupt image or wrong format: data/PetImages/Cat/1151.jpg\n",
            "Corrupt image or wrong format: data/PetImages/Cat/5077.jpg\n",
            "Corrupt image or wrong format: data/PetImages/Cat/2021.jpg\n",
            "Corrupt image or wrong format: data/PetImages/Cat/4000.jpg\n",
            "Corrupt image or wrong format: data/PetImages/Cat/4334.jpg\n",
            "Corrupt image or wrong format: data/PetImages/Cat/11729.jpg\n",
            "Corrupt image or wrong format: data/PetImages/Cat/7647.jpg\n",
            "Corrupt image or wrong format: data/PetImages/Cat/2742.jpg\n",
            "Corrupt image or wrong format: data/PetImages/Cat/1936.jpg\n",
            "Corrupt image or wrong format: data/PetImages/Cat/666.jpg\n",
            "Corrupt image or wrong format: data/PetImages/Cat/10125.jpg\n",
            "Corrupt image or wrong format: data/PetImages/Cat/10874.jpg\n",
            "Corrupt image or wrong format: data/PetImages/Cat/7502.jpg\n",
            "Corrupt image or wrong format: data/PetImages/Cat/7003.jpg\n",
            "Corrupt image or wrong format: data/PetImages/Cat/1386.jpg\n",
            "Corrupt image or wrong format: data/PetImages/Cat/4750.jpg\n",
            "Corrupt image or wrong format: data/PetImages/Cat/11086.jpg\n",
            "Corrupt image or wrong format: data/PetImages/Cat/12269.jpg\n",
            "Corrupt image or wrong format: data/PetImages/Cat/445.jpg\n",
            "Corrupt image or wrong format: data/PetImages/Cat/5614.jpg\n",
            "Corrupt image or wrong format: data/PetImages/Cat/7968.jpg\n",
            "Corrupt image or wrong format: data/PetImages/Cat/8470.jpg\n",
            "Corrupt image or wrong format: data/PetImages/Cat/4293.jpg\n",
            "Corrupt image or wrong format: data/PetImages/Cat/391.jpg\n",
            "Corrupt image or wrong format: data/PetImages/Cat/11935.jpg\n",
            "Corrupt image or wrong format: data/PetImages/Cat/9565.jpg\n",
            "Corrupt image or wrong format: data/PetImages/Cat/4874.jpg\n",
            "Corrupt image or wrong format: data/PetImages/Cat/8295.jpg\n",
            "Corrupt image or wrong format: data/PetImages/Cat/6980.jpg\n",
            "Corrupt image or wrong format: data/PetImages/Cat/6376.jpg\n",
            "Corrupt image or wrong format: data/PetImages/Cat/6435.jpg\n",
            "Corrupt image or wrong format: data/PetImages/Cat/2569.jpg\n",
            "Corrupt image or wrong format: data/PetImages/Cat/4322.jpg\n",
            "Corrupt image or wrong format: data/PetImages/Cat/10404.jpg\n",
            "Corrupt image or wrong format: data/PetImages/Cat/7845.jpg\n",
            "Corrupt image or wrong format: data/PetImages/Cat/23.jpg\n",
            "Corrupt image or wrong format: data/PetImages/Cat/936.jpg\n",
            "Corrupt image or wrong format: data/PetImages/Cat/11397.jpg\n",
            "Corrupt image or wrong format: data/PetImages/Dog/11233.jpg\n",
            "Corrupt image or wrong format: data/PetImages/Dog/7739.jpg\n",
            "Corrupt image or wrong format: data/PetImages/Dog/9145.jpg\n",
            "Corrupt image or wrong format: data/PetImages/Dog/4640.jpg\n",
            "Corrupt image or wrong format: data/PetImages/Dog/5604.jpg\n",
            "Corrupt image or wrong format: data/PetImages/Dog/8521.jpg\n",
            "Corrupt image or wrong format: data/PetImages/Dog/2494.jpg\n",
            "Corrupt image or wrong format: data/PetImages/Dog/561.jpg\n",
            "Corrupt image or wrong format: data/PetImages/Dog/5790.jpg\n",
            "Corrupt image or wrong format: data/PetImages/Dog/8563.jpg\n",
            "Corrupt image or wrong format: data/PetImages/Dog/5104.jpg\n",
            "Corrupt image or wrong format: data/PetImages/Dog/11853.jpg\n",
            "Corrupt image or wrong format: data/PetImages/Dog/10747.jpg\n",
            "Corrupt image or wrong format: data/PetImages/Dog/8126.jpg\n",
            "Corrupt image or wrong format: data/PetImages/Dog/5618.jpg\n"
          ]
        },
        {
          "output_type": "stream",
          "name": "stderr",
          "text": [
            "/anaconda/envs/py38_tensorflow/lib/python3.8/site-packages/PIL/TiffImagePlugin.py:811: UserWarning: Truncated File Read\n",
            "  warnings.warn(str(msg))\n"
          ]
        },
        {
          "output_type": "stream",
          "name": "stdout",
          "text": [
            "Corrupt image or wrong format: data/PetImages/Dog/2688.jpg\n",
            "Corrupt image or wrong format: data/PetImages/Dog/10173.jpg\n",
            "Corrupt image or wrong format: data/PetImages/Dog/11285.jpg\n",
            "Corrupt image or wrong format: data/PetImages/Dog/11590.jpg\n",
            "Corrupt image or wrong format: data/PetImages/Dog/5955.jpg\n",
            "Corrupt image or wrong format: data/PetImages/Dog/6718.jpg\n",
            "Corrupt image or wrong format: data/PetImages/Dog/6500.jpg\n",
            "Corrupt image or wrong format: data/PetImages/Dog/11675.jpg\n",
            "Corrupt image or wrong format: data/PetImages/Dog/7133.jpg\n",
            "Corrupt image or wrong format: data/PetImages/Dog/5263.jpg\n",
            "Corrupt image or wrong format: data/PetImages/Dog/6318.jpg\n",
            "Corrupt image or wrong format: data/PetImages/Dog/2317.jpg\n",
            "Corrupt image or wrong format: data/PetImages/Dog/11912.jpg\n",
            "Corrupt image or wrong format: data/PetImages/Dog/2877.jpg\n",
            "Corrupt image or wrong format: data/PetImages/Dog/6059.jpg\n",
            "Corrupt image or wrong format: data/PetImages/Dog/11166.jpg\n",
            "Corrupt image or wrong format: data/PetImages/Dog/8194.jpg\n",
            "Corrupt image or wrong format: data/PetImages/Dog/6555.jpg\n",
            "Corrupt image or wrong format: data/PetImages/Dog/11560.jpg\n",
            "Corrupt image or wrong format: data/PetImages/Dog/10972.jpg\n",
            "Corrupt image or wrong format: data/PetImages/Dog/10383.jpg\n",
            "Corrupt image or wrong format: data/PetImages/Dog/6213.jpg\n",
            "Corrupt image or wrong format: data/PetImages/Dog/719.jpg\n",
            "Corrupt image or wrong format: data/PetImages/Dog/7459.jpg\n",
            "Corrupt image or wrong format: data/PetImages/Dog/1866.jpg\n",
            "Corrupt image or wrong format: data/PetImages/Dog/7112.jpg\n",
            "Corrupt image or wrong format: data/PetImages/Dog/3588.jpg\n",
            "Corrupt image or wrong format: data/PetImages/Dog/10969.jpg\n",
            "Corrupt image or wrong format: data/PetImages/Dog/11692.jpg\n",
            "Corrupt image or wrong format: data/PetImages/Dog/1308.jpg\n",
            "Corrupt image or wrong format: data/PetImages/Dog/4134.jpg\n",
            "Corrupt image or wrong format: data/PetImages/Dog/12289.jpg\n",
            "Corrupt image or wrong format: data/PetImages/Dog/8715.jpg\n",
            "Corrupt image or wrong format: data/PetImages/Dog/10907.jpg\n",
            "Corrupt image or wrong format: data/PetImages/Dog/11702.jpg\n",
            "Corrupt image or wrong format: data/PetImages/Dog/10863.jpg\n",
            "Corrupt image or wrong format: data/PetImages/Dog/10678.jpg\n",
            "Corrupt image or wrong format: data/PetImages/Dog/9500.jpg\n",
            "Corrupt image or wrong format: data/PetImages/Dog/7743.jpg\n",
            "Corrupt image or wrong format: data/PetImages/Dog/9640.jpg\n",
            "Corrupt image or wrong format: data/PetImages/Dog/3927.jpg\n",
            "Corrupt image or wrong format: data/PetImages/Dog/4301.jpg\n",
            "Corrupt image or wrong format: data/PetImages/Dog/7514.jpg\n",
            "Corrupt image or wrong format: data/PetImages/Dog/5736.jpg\n",
            "Corrupt image or wrong format: data/PetImages/Dog/543.jpg\n",
            "Corrupt image or wrong format: data/PetImages/Dog/1900.jpg\n",
            "Corrupt image or wrong format: data/PetImages/Dog/10726.jpg\n",
            "Corrupt image or wrong format: data/PetImages/Dog/565.jpg\n",
            "Corrupt image or wrong format: data/PetImages/Dog/7718.jpg\n",
            "Corrupt image or wrong format: data/PetImages/Dog/10797.jpg\n",
            "Corrupt image or wrong format: data/PetImages/Dog/3155.jpg\n",
            "Corrupt image or wrong format: data/PetImages/Dog/4654.jpg\n",
            "Corrupt image or wrong format: data/PetImages/Dog/4924.jpg\n",
            "Corrupt image or wrong format: data/PetImages/Dog/663.jpg\n",
            "Corrupt image or wrong format: data/PetImages/Dog/3038.jpg\n",
            "Corrupt image or wrong format: data/PetImages/Dog/414.jpg\n",
            "Corrupt image or wrong format: data/PetImages/Dog/9967.jpg\n",
            "Corrupt image or wrong format: data/PetImages/Dog/4367.jpg\n",
            "Corrupt image or wrong format: data/PetImages/Dog/7311.jpg\n",
            "Corrupt image or wrong format: data/PetImages/Dog/5547.jpg\n",
            "Corrupt image or wrong format: data/PetImages/Dog/3136.jpg\n",
            "Corrupt image or wrong format: data/PetImages/Dog/10353.jpg\n",
            "Corrupt image or wrong format: data/PetImages/Dog/9961.jpg\n",
            "Corrupt image or wrong format: data/PetImages/Dog/6503.jpg\n",
            "Corrupt image or wrong format: data/PetImages/Dog/8693.jpg\n",
            "Corrupt image or wrong format: data/PetImages/Dog/10705.jpg\n",
            "Corrupt image or wrong format: data/PetImages/Dog/12102.jpg\n",
            "Corrupt image or wrong format: data/PetImages/Dog/9043.jpg\n",
            "Corrupt image or wrong format: data/PetImages/Dog/6032.jpg\n",
            "Corrupt image or wrong format: data/PetImages/Dog/4086.jpg\n",
            "Corrupt image or wrong format: data/PetImages/Dog/9851.jpg\n",
            "Corrupt image or wrong format: data/PetImages/Dog/10401.jpg\n",
            "Corrupt image or wrong format: data/PetImages/Dog/1168.jpg\n",
            "Corrupt image or wrong format: data/PetImages/Dog/7369.jpg\n",
            "Corrupt image or wrong format: data/PetImages/Dog/10351.jpg\n",
            "Corrupt image or wrong format: data/PetImages/Dog/9188.jpg\n",
            "Corrupt image or wrong format: data/PetImages/Dog/6855.jpg\n",
            "Corrupt image or wrong format: data/PetImages/Dog/2384.jpg\n",
            "Corrupt image or wrong format: data/PetImages/Dog/5730.jpg\n",
            "Corrupt image or wrong format: data/PetImages/Dog/10733.jpg\n",
            "Corrupt image or wrong format: data/PetImages/Dog/12114.jpg\n",
            "Corrupt image or wrong format: data/PetImages/Dog/3546.jpg\n",
            "Corrupt image or wrong format: data/PetImages/Dog/1259.jpg\n",
            "Corrupt image or wrong format: data/PetImages/Dog/11849.jpg\n",
            "Corrupt image or wrong format: data/PetImages/Dog/573.jpg\n",
            "Corrupt image or wrong format: data/PetImages/Dog/9414.jpg\n",
            "Corrupt image or wrong format: data/PetImages/Dog/11410.jpg\n",
            "Corrupt image or wrong format: data/PetImages/Dog/50.jpg\n",
            "Corrupt image or wrong format: data/PetImages/Dog/11253.jpg\n",
            "Corrupt image or wrong format: data/PetImages/Dog/8641.jpg\n",
            "Corrupt image or wrong format: data/PetImages/Dog/8557.jpg\n",
            "Corrupt image or wrong format: data/PetImages/Dog/4203.jpg\n",
            "Corrupt image or wrong format: data/PetImages/Dog/10158.jpg\n",
            "Corrupt image or wrong format: data/PetImages/Dog/9556.jpg\n",
            "Corrupt image or wrong format: data/PetImages/Dog/296.jpg\n",
            "Corrupt image or wrong format: data/PetImages/Dog/7652.jpg\n",
            "Corrupt image or wrong format: data/PetImages/Dog/8364.jpg\n",
            "Corrupt image or wrong format: data/PetImages/Dog/9643.jpg\n",
            "Corrupt image or wrong format: data/PetImages/Dog/1017.jpg\n",
            "Corrupt image or wrong format: data/PetImages/Dog/3320.jpg\n",
            "Corrupt image or wrong format: data/PetImages/Dog/2353.jpg\n",
            "Corrupt image or wrong format: data/PetImages/Dog/3288.jpg\n",
            "Corrupt image or wrong format: data/PetImages/Dog/8730.jpg\n",
            "Corrupt image or wrong format: data/PetImages/Dog/7128.jpg\n",
            "Corrupt image or wrong format: data/PetImages/Dog/6238.jpg\n",
            "Corrupt image or wrong format: data/PetImages/Dog/10637.jpg\n",
            "Corrupt image or wrong format: data/PetImages/Dog/9367.jpg\n",
            "Corrupt image or wrong format: data/PetImages/Dog/6430.jpg\n",
            "Corrupt image or wrong format: data/PetImages/Dog/2479.jpg\n",
            "Corrupt image or wrong format: data/PetImages/Dog/1884.jpg\n",
            "Corrupt image or wrong format: data/PetImages/Dog/2915.jpg\n",
            "Corrupt image or wrong format: data/PetImages/Dog/2905.jpg\n",
            "Corrupt image or wrong format: data/PetImages/Dog/8889.jpg\n",
            "Corrupt image or wrong format: data/PetImages/Dog/6305.jpg\n",
            "Corrupt image or wrong format: data/PetImages/Dog/522.jpg\n",
            "Corrupt image or wrong format: data/PetImages/Dog/4257.jpg\n",
            "Corrupt image or wrong format: data/PetImages/Dog/5243.jpg\n",
            "Corrupt image or wrong format: data/PetImages/Dog/7969.jpg\n",
            "Corrupt image or wrong format: data/PetImages/Dog/9026.jpg\n",
            "Corrupt image or wrong format: data/PetImages/Dog/1356.jpg\n",
            "Corrupt image or wrong format: data/PetImages/Dog/3885.jpg\n"
          ]
        }
      ],
      "metadata": {}
    },
    {
      "cell_type": "markdown",
      "source": [
        "## Loading the Dataset\r\n",
        "\r\n",
        "In the previous examples, we were loading datasets that are built into Keras. Now we will use our own dataset, which we need to load from a directory of images.\r\n",
        "\r\n",
        "In real life, the size of image datasets can be pretty large, and one cannot rely on all data being able to fit into memory. Thus, datasets are often represented as **generators** that can return data in minibatches for training.\r\n",
        "\r\n",
        "Keras includes a helper function `image_dataset_from_directory`, which can load images from subdirectories corresponding to different classes. This function takes care of scaling images, and it can  split dataset into train and test subsets:"
      ],
      "metadata": {}
    },
    {
      "cell_type": "code",
      "execution_count": 6,
      "source": [
        "data_dir = 'data/PetImages'\r\n",
        "batch_size = 64\r\n",
        "ds_train = keras.preprocessing.image_dataset_from_directory(\r\n",
        "    data_dir,\r\n",
        "    validation_split = 0.2,\r\n",
        "    subset = 'training',\r\n",
        "    seed = 13,\r\n",
        "    image_size = (224,224),\r\n",
        "    batch_size = batch_size\r\n",
        ")\r\n",
        "ds_test = keras.preprocessing.image_dataset_from_directory(\r\n",
        "    data_dir,\r\n",
        "    validation_split = 0.2,\r\n",
        "    subset = 'validation',\r\n",
        "    seed = 13,\r\n",
        "    image_size = (224,224),\r\n",
        "    batch_size = batch_size\r\n",
        ")"
      ],
      "outputs": [
        {
          "output_type": "stream",
          "name": "stdout",
          "text": [
            "Found 24769 files belonging to 2 classes.\n",
            "Using 19816 files for training.\n",
            "Found 24769 files belonging to 2 classes.\n",
            "Using 4953 files for validation.\n"
          ]
        }
      ],
      "metadata": {}
    },
    {
      "cell_type": "markdown",
      "source": [
        "It is important to set the same `seed` value for both calls, because it affects the split of images between train and test dataset.\r\n",
        "\r\n",
        "The dataset automatically picks up class names from directories, and you can access them by calling:"
      ],
      "metadata": {}
    },
    {
      "cell_type": "code",
      "execution_count": 7,
      "source": [
        "ds_train.class_names"
      ],
      "outputs": [
        {
          "output_type": "execute_result",
          "data": {
            "text/plain": [
              "['Cat', 'Dog']"
            ]
          },
          "metadata": {},
          "execution_count": 7
        }
      ],
      "metadata": {}
    },
    {
      "cell_type": "markdown",
      "source": [
        "The datasets that we have loaded can be directly passed to the `fit` function to train the model. They contain both corresponding images and labels which can be looped over using the following construction:"
      ],
      "metadata": {}
    },
    {
      "cell_type": "code",
      "execution_count": 12,
      "source": [
        "for x,y in ds_train:\r\n",
        "    print(f\"Training batch shape: features={x.shape}, labels={y.shape}\")\r\n",
        "    x_sample, y_sample = x,y\r\n",
        "    break\r\n",
        "    \r\n",
        "display_dataset(x_sample.numpy().astype(np.uint8),np.expand_dims(y_sample,1),classes=ds_train.class_names)"
      ],
      "outputs": [
        {
          "output_type": "stream",
          "name": "stdout",
          "text": [
            "Training batch shape: features=(64, 224, 224, 3), labels=(64,)\n"
          ]
        },
        {
          "output_type": "display_data",
          "data": {
            "text/plain": [
              "<Figure size 1080x216 with 10 Axes>"
            ],
            "image/png": "[encoded data removed]"
          },
          "metadata": {
            "needs_background": "light"
          }
        }
      ],
      "metadata": {}
    },
    {
      "cell_type": "markdown",
      "source": [
        "> **Note**: All images in the dataset are represented as floatint point tensors with range 0-255. Before passing them to the neural network, we need to scale those values into 0-1 range. When plotting images, we either need to do the same, or convert values to the `int` type (which we do in the code above), in order to show `matplotlib` that we want to plot the original unscaled image."
      ],
      "metadata": {}
    },
    {
      "cell_type": "markdown",
      "source": [
        "## Pre-trained models\r\n",
        "\r\n",
        "There are many pre-trained neural networks for image classification. Many of those models are available inside the `keras.applications` namespace, and even more models can be found on the Internet. Let's see how the simplest pre-trained model (VGG-16) can be loaded and used.\r\n",
        "\r\n",
        "> In the sandbox environment, we need to explicitly load the weights of pre-trained VGG-16 network to a local directory. If you are running the code in local notebook environment, you can skip the following cell."
      ],
      "metadata": {}
    },
    {
      "cell_type": "code",
      "execution_count": null,
      "source": [
        "# Download model weights in the sandbox environment\r\n",
        "!mkdir -p ~/.keras/models\r\n",
        "!wget -P ~/.keras/models -q https://mslearntensorflowlp.blob.core.windows.net/models/vgg16_weights_tf_dim_ordering_tf_kernels.h5\r\n",
        "!wget -P ~/.keras/models -q https://mslearntensorflowlp.blob.core.windows.net/models/vgg16_weights_tf_dim_ordering_tf_kernels_notop.h5\r\n",
        "!wget -P ~/.keras/models -q https://mslearntensorflowlp.blob.core.windows.net/models/imagenet_class_index.json"
      ],
      "outputs": [],
      "metadata": {}
    },
    {
      "cell_type": "code",
      "execution_count": 15,
      "source": [
        "vgg = keras.applications.VGG16()\r\n",
        "inp = keras.applications.vgg16.preprocess_input(x_sample[:1])\r\n",
        "\r\n",
        "res = vgg(inp)\r\n",
        "print(f\"Most probable class = {tf.argmax(res,1)}\")\r\n",
        "\r\n",
        "keras.applications.vgg16.decode_predictions(res.numpy())"
      ],
      "outputs": [
        {
          "output_type": "stream",
          "name": "stdout",
          "text": [
            "Most probable class = [281]\n"
          ]
        },
        {
          "output_type": "execute_result",
          "data": {
            "text/plain": [
              "[[('n02123045', 'tabby', 0.7269167),\n",
              "  ('n02123159', 'tiger_cat', 0.18427314),\n",
              "  ('n02124075', 'Egyptian_cat', 0.07865786),\n",
              "  ('n03223299', 'doormat', 0.0015196853),\n",
              "  ('n02127052', 'lynx', 0.0009609928)]]"
            ]
          },
          "metadata": {},
          "execution_count": 15
        }
      ],
      "metadata": {}
    },
    {
      "cell_type": "markdown",
      "source": [
        "There are a couple of important things here:\r\n",
        "* Before passing an input to any pre-trained network it has to be pre-processed in a certain way. This is done by calling corresponding `preprocess_input` function, which receives a batch of images, and returns their processed form. In the case of VGG-16, images are normalized, and some pre-defined average value for each channels is subtracted. That is because VGG-16 was originally trained with this pre-processing.\r\n",
        "* Neural network is applied to the input batch, and we receive as the result a batch of 1000-element tensors that show probability of each class. We can find the most probable class number by calling `argmax` on this tensor.\r\n",
        "* Obtained result is a [number of an `ImageNet` class](https://gist.github.com/yrevar/942d3a0ac09ec9e5eb3a). To make sense of this result, we can also use `decode_predictions` function, that returns top n classes together with their names."
      ],
      "metadata": {}
    },
    {
      "cell_type": "markdown",
      "source": [
        "Let's see the architecture of the VGG-16 network:"
      ],
      "metadata": {}
    },
    {
      "cell_type": "code",
      "execution_count": 16,
      "source": [
        "vgg.summary()"
      ],
      "outputs": [
        {
          "output_type": "stream",
          "name": "stdout",
          "text": [
            "Model: \"vgg16\"\n",
            "_________________________________________________________________\n",
            "Layer (type)                 Output Shape              Param #   \n",
            "=================================================================\n",
            "input_3 (InputLayer)         [(None, 224, 224, 3)]     0         \n",
            "_________________________________________________________________\n",
            "block1_conv1 (Conv2D)        (None, 224, 224, 64)      1792      \n",
            "_________________________________________________________________\n",
            "block1_conv2 (Conv2D)        (None, 224, 224, 64)      36928     \n",
            "_________________________________________________________________\n",
            "block1_pool (MaxPooling2D)   (None, 112, 112, 64)      0         \n",
            "_________________________________________________________________\n",
            "block2_conv1 (Conv2D)        (None, 112, 112, 128)     73856     \n",
            "_________________________________________________________________\n",
            "block2_conv2 (Conv2D)        (None, 112, 112, 128)     147584    \n",
            "_________________________________________________________________\n",
            "block2_pool (MaxPooling2D)   (None, 56, 56, 128)       0         \n",
            "_________________________________________________________________\n",
            "block3_conv1 (Conv2D)        (None, 56, 56, 256)       295168    \n",
            "_________________________________________________________________\n",
            "block3_conv2 (Conv2D)        (None, 56, 56, 256)       590080    \n",
            "_________________________________________________________________\n",
            "block3_conv3 (Conv2D)        (None, 56, 56, 256)       590080    \n",
            "_________________________________________________________________\n",
            "block3_pool (MaxPooling2D)   (None, 28, 28, 256)       0         \n",
            "_________________________________________________________________\n",
            "block4_conv1 (Conv2D)        (None, 28, 28, 512)       1180160   \n",
            "_________________________________________________________________\n",
            "block4_conv2 (Conv2D)        (None, 28, 28, 512)       2359808   \n",
            "_________________________________________________________________\n",
            "block4_conv3 (Conv2D)        (None, 28, 28, 512)       2359808   \n",
            "_________________________________________________________________\n",
            "block4_pool (MaxPooling2D)   (None, 14, 14, 512)       0         \n",
            "_________________________________________________________________\n",
            "block5_conv1 (Conv2D)        (None, 14, 14, 512)       2359808   \n",
            "_________________________________________________________________\n",
            "block5_conv2 (Conv2D)        (None, 14, 14, 512)       2359808   \n",
            "_________________________________________________________________\n",
            "block5_conv3 (Conv2D)        (None, 14, 14, 512)       2359808   \n",
            "_________________________________________________________________\n",
            "block5_pool (MaxPooling2D)   (None, 7, 7, 512)         0         \n",
            "_________________________________________________________________\n",
            "flatten (Flatten)            (None, 25088)             0         \n",
            "_________________________________________________________________\n",
            "fc1 (Dense)                  (None, 4096)              102764544 \n",
            "_________________________________________________________________\n",
            "fc2 (Dense)                  (None, 4096)              16781312  \n",
            "_________________________________________________________________\n",
            "predictions (Dense)          (None, 1000)              4097000   \n",
            "=================================================================\n",
            "Total params: 138,357,544\n",
            "Trainable params: 138,357,544\n",
            "Non-trainable params: 0\n",
            "_________________________________________________________________\n"
          ]
        }
      ],
      "metadata": {}
    },
    {
      "cell_type": "markdown",
      "source": [
        "## GPU computations\r\n",
        "\r\n",
        "Deep neural networks require quite a lot of computational power to run. If it is available use GPU acceleration to speed up training. Luckily, Keras automatically speeds up the computations on the GPU if it is available. We can check if TensorFlow is able to use GPU using the following code:"
      ],
      "metadata": {}
    },
    {
      "cell_type": "code",
      "execution_count": 17,
      "source": [
        "tf.config.list_physical_devices('GPU')"
      ],
      "outputs": [
        {
          "output_type": "execute_result",
          "data": {
            "text/plain": [
              "[PhysicalDevice(name='/physical_device:GPU:0', device_type='GPU')]"
            ]
          },
          "metadata": {},
          "execution_count": 17
        }
      ],
      "metadata": {}
    },
    {
      "cell_type": "markdown",
      "source": [
        "\r\n",
        "## Extracting VGG features\r\n",
        "\r\n",
        "If we want to use VGG-16 to extract features from our images, we need the model without the final classification layers. We can instantiate VGG-16 model without top layers using this code:"
      ],
      "metadata": {}
    },
    {
      "cell_type": "code",
      "execution_count": 18,
      "source": [
        "vgg = keras.applications.VGG16(include_top=False)\r\n",
        "\r\n",
        "inp = keras.applications.vgg16.preprocess_input(x_sample[:1])\r\n",
        "res = vgg(inp)\r\n",
        "print(f\"Shape after applying VGG-16: {res[0].shape}\")\r\n",
        "plt.figure(figsize=(15,3))\r\n",
        "plt.imshow(res[0].numpy().reshape(-1,512))"
      ],
      "outputs": [
        {
          "output_type": "stream",
          "name": "stdout",
          "text": [
            "Shape after applying VGG-16: (7, 7, 512)\n"
          ]
        },
        {
          "output_type": "execute_result",
          "data": {
            "text/plain": [
              "<matplotlib.image.AxesImage at 0x7fb558386430>"
            ]
          },
          "metadata": {},
          "execution_count": 18
        },
        {
          "output_type": "display_data",
          "data": {
            "text/plain": [
              "<Figure size 1080x216 with 1 Axes>"
            ],
            "image/png": "[encoded data removed]"
          },
          "metadata": {
            "needs_background": "light"
          }
        }
      ],
      "metadata": {}
    },
    {
      "cell_type": "markdown",
      "source": [
        "The dimension of the feature tensor is 7x7x512, but in order to visualize it we had to reshape it to a 2D form.\r\n",
        "\r\n",
        "Now let's try to see if those features can be used to classify images. Let's manually take some portion of images (50 minibatches, in our case), and pre-compute their feature vectors. We can use TensorFlow **dataset** API to do that. The `map` function takes a dataset and applies a given lambda-function to transform it. We use this mechanism to construct new datasets, `ds_features_train` and `ds_features_test`, that contain VGG-extracted features instead of original images."
      ],
      "metadata": {}
    },
    {
      "cell_type": "code",
      "execution_count": 19,
      "source": [
        "num = batch_size*50\r\n",
        "ds_features_train = ds_train.take(50).map(lambda x,y : (vgg(x),y))\r\n",
        "ds_features_test = ds_test.take(10).map(lambda x,y : (vgg(x),y))\r\n",
        "\r\n",
        "for x,y in ds_features_train:\r\n",
        "    print(x.shape,y.shape)\r\n",
        "    break"
      ],
      "outputs": [
        {
          "output_type": "stream",
          "name": "stdout",
          "text": [
            "(64, 7, 7, 512) (64,)\n"
          ]
        }
      ],
      "metadata": {}
    },
    {
      "cell_type": "markdown",
      "source": [
        "We used construction `.take(50)` to limit the dataset size, to speed up our demonstration. You can of course perform this experiment on the full dataset.\r\n",
        "\r\n",
        "Now that we have a dataset with extracted features, we can train a simple dense classifier to distinguish between cats and dogs. This network will take a feature vector of shape (7,7,512), and produce one output that corresponds either to a dog or to a cat. Because it is a binary classification, we use the `sigmoid` activation function and `binary_crossentropy` loss.\r\n",
        "\r\n",
        "> This process can take a really long time, so you may even want to interrupt it if you are not patient. You may be wondering, why training on relatively small amount of data takes so much time! This is because the code above, which applies `vgg` feature extractor using `map`, is **lazy** - it does not in fact compute VGG features for all dataset at once, but it does it on demand. The call to VGG network happens during the training below."
      ],
      "metadata": {}
    },
    {
      "cell_type": "code",
      "execution_count": 20,
      "source": [
        "model = keras.models.Sequential([\r\n",
        "    keras.layers.Flatten(input_shape=(7,7,512)),\r\n",
        "    keras.layers.Dense(1,activation='sigmoid')\r\n",
        "])\r\n",
        "model.compile(optimizer='adam', loss='binary_crossentropy', metrics=['acc'])\r\n",
        "hist = model.fit(ds_features_train, validation_data=ds_features_test)"
      ],
      "outputs": [
        {
          "output_type": "stream",
          "name": "stdout",
          "text": [
            "50/50 [==============================] - 1919s 38s/step - loss: 1.4034 - acc: 0.9203 - val_loss: 0.6776 - val_acc: 0.9578\n"
          ]
        }
      ],
      "metadata": {}
    },
    {
      "cell_type": "markdown",
      "source": [
        "The result is great! We can distinguish between a cat and a dog with almost 95% accuracy! However, we have only tested this approach on a  subset of all images, because manual feature extraction takes a lot of time.\r\n",
        "\r\n",
        "## Transfer learning using one VGG network\r\n",
        "\r\n",
        "We can avoid manually pre-computing the features by using the original VGG-16 network as a whole during training, by adding feature extractor to our network as a first layer. \r\n",
        "\r\n",
        "The beauty of Keras architecture is that VGG-16 model that we have defined above can also be used as a layer in another neural network! We just need to construct a network with a dense classifier on top of it, and then train the whole network using back propagation."
      ],
      "metadata": {}
    },
    {
      "cell_type": "code",
      "execution_count": 6,
      "source": [
        "model = keras.models.Sequential()\r\n",
        "model.add(keras.applications.VGG16(include_top=False,input_shape=(224,224,3)))\r\n",
        "model.add(keras.layers.Flatten())\r\n",
        "model.add(keras.layers.Dense(1,activation='sigmoid'))\r\n",
        "\r\n",
        "model.layers[0].trainable = False\r\n",
        "\r\n",
        "model.summary()"
      ],
      "outputs": [
        {
          "output_type": "stream",
          "name": "stdout",
          "text": [
            "Model: \"sequential\"\n",
            "_________________________________________________________________\n",
            "Layer (type)                 Output Shape              Param #   \n",
            "=================================================================\n",
            "vgg16 (Functional)           (None, 7, 7, 512)         14714688  \n",
            "_________________________________________________________________\n",
            "flatten (Flatten)            (None, 25088)             0         \n",
            "_________________________________________________________________\n",
            "dense (Dense)                (None, 1)                 25089     \n",
            "=================================================================\n",
            "Total params: 14,739,777\n",
            "Trainable params: 25,089\n",
            "Non-trainable params: 14,714,688\n",
            "_________________________________________________________________\n"
          ]
        }
      ],
      "metadata": {}
    },
    {
      "cell_type": "markdown",
      "source": [
        "This model looks like an end-to-end classification network, which takes an image and returns the class. However, the tricky thing is that we want VGG16 to act as a feature extractor, and not to be re-trained. Thus, we need to **freeze weights of convolutional feature extractor**. We can access the first layer of the network by calling `model.layers[0]`, and we just need to set `trainable` property to `False`.\r\n",
        "\r\n",
        "> **Note**: Freezing of feature extractor weights is needed, because otherwise the untrained classifier layer can destroy the original pre-trained weights of convolutional extractor.\r\n",
        "\r\n",
        "Notice that while the total number of parameters in our network is around 15 million, we are only training 25k parameters. All other parameters of the top-level convolutional filters are pre-trained. That is good, because we are able to fine-tune smaller number of parameters with smaller number of examples.\r\n",
        "\r\n",
        "We will now train our network and see how good we can get. This will take a long time to train and do not worry if the execution seems frozen for some time."
      ],
      "metadata": {}
    },
    {
      "cell_type": "code",
      "execution_count": 7,
      "source": [
        "model.compile(optimizer='adam', loss='binary_crossentropy', metrics=['acc'])\r\n",
        "hist = model.fit(ds_train, validation_data=ds_test)"
      ],
      "outputs": [
        {
          "output_type": "stream",
          "name": "stdout",
          "text": [
            "310/310 [==============================] - 265s 716ms/step - loss: 0.9917 - acc: 0.9512 - val_loss: 0.8156 - val_acc: 0.9671\n"
          ]
        }
      ],
      "metadata": {}
    },
    {
      "cell_type": "markdown",
      "source": [
        "We got a reasonably accurate cats vs. dogs classifier! \r\n",
        "\r\n",
        "## Saving and Loading the Model\r\n",
        "\r\n",
        "Once we have trained the model, we can save the model architecture and trained weights to a file for future use:"
      ],
      "metadata": {}
    },
    {
      "cell_type": "code",
      "execution_count": 8,
      "source": [
        "model.save('data/cats_dogs.tf')"
      ],
      "outputs": [
        {
          "output_type": "stream",
          "name": "stdout",
          "text": [
            "INFO:tensorflow:Assets written to: data/cats_dogs.tf/assets\n"
          ]
        }
      ],
      "metadata": {}
    },
    {
      "cell_type": "markdown",
      "source": [
        "We can then load the model from the file at any time and save the work for this training iteration."
      ],
      "metadata": {}
    },
    {
      "cell_type": "code",
      "execution_count": 9,
      "source": [
        "model = keras.models.load_model('data/cats_dogs.tf')"
      ],
      "outputs": [],
      "metadata": {}
    },
    {
      "cell_type": "markdown",
      "source": [
        "## Fine-tuning transfer learning\r\n",
        "\r\n",
        "Now we have trained the final classifier layer to classify images in our own dataset. However, we did not re-train the feature extractor and our model relied on the features that the model has learned on the ImageNet data. we need to start training the convolutional layers as well.\r\n",
        "\r\n",
        "To do that, we can unfreeze the convolutional filter parameters that we have previously frozen. \r\n",
        "\r\n",
        "> **Note:** It is important that you freeze parameters first and perform several epochs of training in order to stabilize weights in the classification layer. If you immediately start training the network with unfrozen parameters, large errors are likely to destroy the pre-trained weights in the convolutional layers.\r\n",
        "\r\n",
        "Our convolutional VGG-16 model is located inside the first layer, and it consists of many layers itself. We can have a look at its structure: "
      ],
      "metadata": {}
    },
    {
      "cell_type": "code",
      "execution_count": 10,
      "source": [
        "model.layers[0].summary()"
      ],
      "outputs": [
        {
          "output_type": "stream",
          "name": "stdout",
          "text": [
            "Model: \"vgg16\"\n",
            "_________________________________________________________________\n",
            "Layer (type)                 Output Shape              Param #   \n",
            "=================================================================\n",
            "input_1 (InputLayer)         [(None, 224, 224, 3)]     0         \n",
            "_________________________________________________________________\n",
            "block1_conv1 (Conv2D)        (None, 224, 224, 64)      1792      \n",
            "_________________________________________________________________\n",
            "block1_conv2 (Conv2D)        (None, 224, 224, 64)      36928     \n",
            "_________________________________________________________________\n",
            "block1_pool (MaxPooling2D)   (None, 112, 112, 64)      0         \n",
            "_________________________________________________________________\n",
            "block2_conv1 (Conv2D)        (None, 112, 112, 128)     73856     \n",
            "_________________________________________________________________\n",
            "block2_conv2 (Conv2D)        (None, 112, 112, 128)     147584    \n",
            "_________________________________________________________________\n",
            "block2_pool (MaxPooling2D)   (None, 56, 56, 128)       0         \n",
            "_________________________________________________________________\n",
            "block3_conv1 (Conv2D)        (None, 56, 56, 256)       295168    \n",
            "_________________________________________________________________\n",
            "block3_conv2 (Conv2D)        (None, 56, 56, 256)       590080    \n",
            "_________________________________________________________________\n",
            "block3_conv3 (Conv2D)        (None, 56, 56, 256)       590080    \n",
            "_________________________________________________________________\n",
            "block3_pool (MaxPooling2D)   (None, 28, 28, 256)       0         \n",
            "_________________________________________________________________\n",
            "block4_conv1 (Conv2D)        (None, 28, 28, 512)       1180160   \n",
            "_________________________________________________________________\n",
            "block4_conv2 (Conv2D)        (None, 28, 28, 512)       2359808   \n",
            "_________________________________________________________________\n",
            "block4_conv3 (Conv2D)        (None, 28, 28, 512)       2359808   \n",
            "_________________________________________________________________\n",
            "block4_pool (MaxPooling2D)   (None, 14, 14, 512)       0         \n",
            "_________________________________________________________________\n",
            "block5_conv1 (Conv2D)        (None, 14, 14, 512)       2359808   \n",
            "_________________________________________________________________\n",
            "block5_conv2 (Conv2D)        (None, 14, 14, 512)       2359808   \n",
            "_________________________________________________________________\n",
            "block5_conv3 (Conv2D)        (None, 14, 14, 512)       2359808   \n",
            "_________________________________________________________________\n",
            "block5_pool (MaxPooling2D)   (None, 7, 7, 512)         0         \n",
            "=================================================================\n",
            "Total params: 14,714,688\n",
            "Trainable params: 0\n",
            "Non-trainable params: 14,714,688\n",
            "_________________________________________________________________\n"
          ]
        }
      ],
      "metadata": {}
    },
    {
      "cell_type": "markdown",
      "source": [
        "We can unfreeze all layers of convolutional base like so:"
      ],
      "metadata": {}
    },
    {
      "cell_type": "code",
      "execution_count": null,
      "source": [
        "model.layers[0].trainable = True"
      ],
      "outputs": [],
      "metadata": {}
    },
    {
      "cell_type": "markdown",
      "source": [
        "We can first unfreeze just a few final layers of convolutions because they contain higher level patterns that are relevant for our images. For example, we can freeze all layers except the last 4: "
      ],
      "metadata": {}
    },
    {
      "cell_type": "code",
      "execution_count": 11,
      "source": [
        "for i in range(len(model.layers[0].layers)-4):\r\n",
        "    model.layers[0].layers[i].trainable = False\r\n",
        "model.summary()"
      ],
      "outputs": [
        {
          "output_type": "stream",
          "name": "stdout",
          "text": [
            "Model: \"sequential\"\n",
            "_________________________________________________________________\n",
            "Layer (type)                 Output Shape              Param #   \n",
            "=================================================================\n",
            "vgg16 (Functional)           (None, 7, 7, 512)         14714688  \n",
            "_________________________________________________________________\n",
            "flatten (Flatten)            (None, 25088)             0         \n",
            "_________________________________________________________________\n",
            "dense (Dense)                (None, 1)                 25089     \n",
            "=================================================================\n",
            "Total params: 14,739,777\n",
            "Trainable params: 7,104,513\n",
            "Non-trainable params: 7,635,264\n",
            "_________________________________________________________________\n"
          ]
        }
      ],
      "metadata": {}
    },
    {
      "cell_type": "markdown",
      "source": [
        "Observe that the number of trainable parameters increased significantly, but it is still around 50% of all parameters.\r\n",
        "\r\n",
        "After unfreezing we can do a few more epochs of training. You can also select a bit lower learning rate in order to minimize the impact on the pre-trained weights. However, even with low learning rate, you can expect the accuracy to drop in the beginning of the training, until finally reaching a higher level than in the case of fixed weights.\r\n",
        "\r\n",
        "> **Note:** This training happens much slower, because we need to propagate gradients back through many layers of the network!"
      ],
      "metadata": {}
    },
    {
      "cell_type": "code",
      "execution_count": 12,
      "source": [
        "hist = model.fit(ds_train, validation_data=ds_test)"
      ],
      "outputs": [
        {
          "output_type": "stream",
          "name": "stdout",
          "text": [
            "310/310 [==============================] - 201s 645ms/step - loss: 0.5270 - acc: 0.9776 - val_loss: 1.4132 - val_acc: 0.9653\n"
          ]
        }
      ],
      "metadata": {}
    },
    {
      "cell_type": "markdown",
      "source": [
        "We are likely to achieve a higher training accuracy, because we are using more a powerful network with more parameters, but validation accuracy would increase only slightly.\r\n",
        "\r\n",
        "Feel free to unfreeze a few more layers of the network and train more, to see if you are able to achieve higher accuracy!"
      ],
      "metadata": {}
    },
    {
      "cell_type": "markdown",
      "source": [
        "## Other computer vision models\r\n",
        "\r\n",
        "VGG-16 is one of the simplest computer vision architectures. Keras provides many more pre-trained networks. The most frequently used ones among those are **ResNet** architectures, developed by Microsoft, and **Inception** by Google. For example, let's explore the architecture of the simplest ResNet-50 model (ResNet is a family of models with different depth, you can try experimenting with ResNet-152 if you want to see what a really deep model looks like):"
      ],
      "metadata": {}
    },
    {
      "cell_type": "code",
      "execution_count": 24,
      "source": [
        "# Download model weights in the sandbox environment\r\n",
        "!mkdir -p ~/.keras/models\r\n",
        "!wget -P ~/.keras/models -q https://mslearntensorflowlp.blob.core.windows.net/models/resnet50_weights_tf_dim_ordering_tf_kernels.h5\r\n",
        "# Uncomment the following line, if you also want to load ResNet-152\r\n",
        "#!wget -P ~/.keras/models -q https://mslearntensorflowlp.blob.core.windows.net/models/resnet152_weights_tf_dim_ordering_tf_kernels.h5"
      ],
      "outputs": [],
      "metadata": {}
    },
    {
      "cell_type": "code",
      "execution_count": 26,
      "source": [
        "resnet = keras.applications.ResNet50()\r\n",
        "resnet.summary()"
      ],
      "outputs": [
        {
          "output_type": "stream",
          "name": "stdout",
          "text": [
            "Model: \"resnet50\"\n",
            "__________________________________________________________________________________________________\n",
            "Layer (type)                    Output Shape         Param #     Connected to                     \n",
            "==================================================================================================\n",
            "input_9 (InputLayer)            [(None, 224, 224, 3) 0                                            \n",
            "__________________________________________________________________________________________________\n",
            "conv1_pad (ZeroPadding2D)       (None, 230, 230, 3)  0           input_9[0][0]                    \n",
            "__________________________________________________________________________________________________\n",
            "conv1_conv (Conv2D)             (None, 112, 112, 64) 9472        conv1_pad[0][0]                  \n",
            "__________________________________________________________________________________________________\n",
            "conv1_bn (BatchNormalization)   (None, 112, 112, 64) 256         conv1_conv[0][0]                 \n",
            "__________________________________________________________________________________________________\n",
            "conv1_relu (Activation)         (None, 112, 112, 64) 0           conv1_bn[0][0]                   \n",
            "__________________________________________________________________________________________________\n",
            "pool1_pad (ZeroPadding2D)       (None, 114, 114, 64) 0           conv1_relu[0][0]                 \n",
            "__________________________________________________________________________________________________\n",
            "pool1_pool (MaxPooling2D)       (None, 56, 56, 64)   0           pool1_pad[0][0]                  \n",
            "__________________________________________________________________________________________________\n",
            "conv2_block1_1_conv (Conv2D)    (None, 56, 56, 64)   4160        pool1_pool[0][0]                 \n",
            "__________________________________________________________________________________________________\n",
            "conv2_block1_1_bn (BatchNormali (None, 56, 56, 64)   256         conv2_block1_1_conv[0][0]        \n",
            "__________________________________________________________________________________________________\n",
            "conv2_block1_1_relu (Activation (None, 56, 56, 64)   0           conv2_block1_1_bn[0][0]          \n",
            "__________________________________________________________________________________________________\n",
            "conv2_block1_2_conv (Conv2D)    (None, 56, 56, 64)   36928       conv2_block1_1_relu[0][0]        \n",
            "__________________________________________________________________________________________________\n",
            "conv2_block1_2_bn (BatchNormali (None, 56, 56, 64)   256         conv2_block1_2_conv[0][0]        \n",
            "__________________________________________________________________________________________________\n",
            "conv2_block1_2_relu (Activation (None, 56, 56, 64)   0           conv2_block1_2_bn[0][0]          \n",
            "__________________________________________________________________________________________________\n",
            "conv2_block1_0_conv (Conv2D)    (None, 56, 56, 256)  16640       pool1_pool[0][0]                 \n",
            "__________________________________________________________________________________________________\n",
            "conv2_block1_3_conv (Conv2D)    (None, 56, 56, 256)  16640       conv2_block1_2_relu[0][0]        \n",
            "__________________________________________________________________________________________________\n",
            "conv2_block1_0_bn (BatchNormali (None, 56, 56, 256)  1024        conv2_block1_0_conv[0][0]        \n",
            "__________________________________________________________________________________________________\n",
            "conv2_block1_3_bn (BatchNormali (None, 56, 56, 256)  1024        conv2_block1_3_conv[0][0]        \n",
            "__________________________________________________________________________________________________\n",
            "conv2_block1_add (Add)          (None, 56, 56, 256)  0           conv2_block1_0_bn[0][0]          \n",
            "                                                                 conv2_block1_3_bn[0][0]          \n",
            "__________________________________________________________________________________________________\n",
            "conv2_block1_out (Activation)   (None, 56, 56, 256)  0           conv2_block1_add[0][0]           \n",
            "__________________________________________________________________________________________________\n",
            "conv2_block2_1_conv (Conv2D)    (None, 56, 56, 64)   16448       conv2_block1_out[0][0]           \n",
            "__________________________________________________________________________________________________\n",
            "conv2_block2_1_bn (BatchNormali (None, 56, 56, 64)   256         conv2_block2_1_conv[0][0]        \n",
            "__________________________________________________________________________________________________\n",
            "conv2_block2_1_relu (Activation (None, 56, 56, 64)   0           conv2_block2_1_bn[0][0]          \n",
            "__________________________________________________________________________________________________\n",
            "conv2_block2_2_conv (Conv2D)    (None, 56, 56, 64)   36928       conv2_block2_1_relu[0][0]        \n",
            "__________________________________________________________________________________________________\n",
            "conv2_block2_2_bn (BatchNormali (None, 56, 56, 64)   256         conv2_block2_2_conv[0][0]        \n",
            "__________________________________________________________________________________________________\n",
            "conv2_block2_2_relu (Activation (None, 56, 56, 64)   0           conv2_block2_2_bn[0][0]          \n",
            "__________________________________________________________________________________________________\n",
            "conv2_block2_3_conv (Conv2D)    (None, 56, 56, 256)  16640       conv2_block2_2_relu[0][0]        \n",
            "__________________________________________________________________________________________________\n",
            "conv2_block2_3_bn (BatchNormali (None, 56, 56, 256)  1024        conv2_block2_3_conv[0][0]        \n",
            "__________________________________________________________________________________________________\n",
            "conv2_block2_add (Add)          (None, 56, 56, 256)  0           conv2_block1_out[0][0]           \n",
            "                                                                 conv2_block2_3_bn[0][0]          \n",
            "__________________________________________________________________________________________________\n",
            "conv2_block2_out (Activation)   (None, 56, 56, 256)  0           conv2_block2_add[0][0]           \n",
            "__________________________________________________________________________________________________\n",
            "conv2_block3_1_conv (Conv2D)    (None, 56, 56, 64)   16448       conv2_block2_out[0][0]           \n",
            "__________________________________________________________________________________________________\n",
            "conv2_block3_1_bn (BatchNormali (None, 56, 56, 64)   256         conv2_block3_1_conv[0][0]        \n",
            "__________________________________________________________________________________________________\n",
            "conv2_block3_1_relu (Activation (None, 56, 56, 64)   0           conv2_block3_1_bn[0][0]          \n",
            "__________________________________________________________________________________________________\n",
            "conv2_block3_2_conv (Conv2D)    (None, 56, 56, 64)   36928       conv2_block3_1_relu[0][0]        \n",
            "__________________________________________________________________________________________________\n",
            "conv2_block3_2_bn (BatchNormali (None, 56, 56, 64)   256         conv2_block3_2_conv[0][0]        \n",
            "__________________________________________________________________________________________________\n",
            "conv2_block3_2_relu (Activation (None, 56, 56, 64)   0           conv2_block3_2_bn[0][0]          \n",
            "__________________________________________________________________________________________________\n",
            "conv2_block3_3_conv (Conv2D)    (None, 56, 56, 256)  16640       conv2_block3_2_relu[0][0]        \n",
            "__________________________________________________________________________________________________\n",
            "conv2_block3_3_bn (BatchNormali (None, 56, 56, 256)  1024        conv2_block3_3_conv[0][0]        \n",
            "__________________________________________________________________________________________________\n",
            "conv2_block3_add (Add)          (None, 56, 56, 256)  0           conv2_block2_out[0][0]           \n",
            "                                                                 conv2_block3_3_bn[0][0]          \n",
            "__________________________________________________________________________________________________\n",
            "conv2_block3_out (Activation)   (None, 56, 56, 256)  0           conv2_block3_add[0][0]           \n",
            "__________________________________________________________________________________________________\n",
            "conv3_block1_1_conv (Conv2D)    (None, 28, 28, 128)  32896       conv2_block3_out[0][0]           \n",
            "__________________________________________________________________________________________________\n",
            "conv3_block1_1_bn (BatchNormali (None, 28, 28, 128)  512         conv3_block1_1_conv[0][0]        \n",
            "__________________________________________________________________________________________________\n",
            "conv3_block1_1_relu (Activation (None, 28, 28, 128)  0           conv3_block1_1_bn[0][0]          \n",
            "__________________________________________________________________________________________________\n",
            "conv3_block1_2_conv (Conv2D)    (None, 28, 28, 128)  147584      conv3_block1_1_relu[0][0]        \n",
            "__________________________________________________________________________________________________\n",
            "conv3_block1_2_bn (BatchNormali (None, 28, 28, 128)  512         conv3_block1_2_conv[0][0]        \n",
            "__________________________________________________________________________________________________\n",
            "conv3_block1_2_relu (Activation (None, 28, 28, 128)  0           conv3_block1_2_bn[0][0]          \n",
            "__________________________________________________________________________________________________\n",
            "conv3_block1_0_conv (Conv2D)    (None, 28, 28, 512)  131584      conv2_block3_out[0][0]           \n",
            "__________________________________________________________________________________________________\n",
            "conv3_block1_3_conv (Conv2D)    (None, 28, 28, 512)  66048       conv3_block1_2_relu[0][0]        \n",
            "__________________________________________________________________________________________________\n",
            "conv3_block1_0_bn (BatchNormali (None, 28, 28, 512)  2048        conv3_block1_0_conv[0][0]        \n",
            "__________________________________________________________________________________________________\n",
            "conv3_block1_3_bn (BatchNormali (None, 28, 28, 512)  2048        conv3_block1_3_conv[0][0]        \n",
            "__________________________________________________________________________________________________\n",
            "conv3_block1_add (Add)          (None, 28, 28, 512)  0           conv3_block1_0_bn[0][0]          \n",
            "                                                                 conv3_block1_3_bn[0][0]          \n",
            "__________________________________________________________________________________________________\n",
            "conv3_block1_out (Activation)   (None, 28, 28, 512)  0           conv3_block1_add[0][0]           \n",
            "__________________________________________________________________________________________________\n",
            "conv3_block2_1_conv (Conv2D)    (None, 28, 28, 128)  65664       conv3_block1_out[0][0]           \n",
            "__________________________________________________________________________________________________\n",
            "conv3_block2_1_bn (BatchNormali (None, 28, 28, 128)  512         conv3_block2_1_conv[0][0]        \n",
            "__________________________________________________________________________________________________\n",
            "conv3_block2_1_relu (Activation (None, 28, 28, 128)  0           conv3_block2_1_bn[0][0]          \n",
            "__________________________________________________________________________________________________\n",
            "conv3_block2_2_conv (Conv2D)    (None, 28, 28, 128)  147584      conv3_block2_1_relu[0][0]        \n",
            "__________________________________________________________________________________________________\n",
            "conv3_block2_2_bn (BatchNormali (None, 28, 28, 128)  512         conv3_block2_2_conv[0][0]        \n",
            "__________________________________________________________________________________________________\n",
            "conv3_block2_2_relu (Activation (None, 28, 28, 128)  0           conv3_block2_2_bn[0][0]          \n",
            "__________________________________________________________________________________________________\n",
            "conv3_block2_3_conv (Conv2D)    (None, 28, 28, 512)  66048       conv3_block2_2_relu[0][0]        \n",
            "__________________________________________________________________________________________________\n",
            "conv3_block2_3_bn (BatchNormali (None, 28, 28, 512)  2048        conv3_block2_3_conv[0][0]        \n",
            "__________________________________________________________________________________________________\n",
            "conv3_block2_add (Add)          (None, 28, 28, 512)  0           conv3_block1_out[0][0]           \n",
            "                                                                 conv3_block2_3_bn[0][0]          \n",
            "__________________________________________________________________________________________________\n",
            "conv3_block2_out (Activation)   (None, 28, 28, 512)  0           conv3_block2_add[0][0]           \n",
            "__________________________________________________________________________________________________\n",
            "conv3_block3_1_conv (Conv2D)    (None, 28, 28, 128)  65664       conv3_block2_out[0][0]           \n",
            "__________________________________________________________________________________________________\n",
            "conv3_block3_1_bn (BatchNormali (None, 28, 28, 128)  512         conv3_block3_1_conv[0][0]        \n",
            "__________________________________________________________________________________________________\n",
            "conv3_block3_1_relu (Activation (None, 28, 28, 128)  0           conv3_block3_1_bn[0][0]          \n",
            "__________________________________________________________________________________________________\n",
            "conv3_block3_2_conv (Conv2D)    (None, 28, 28, 128)  147584      conv3_block3_1_relu[0][0]        \n",
            "__________________________________________________________________________________________________\n",
            "conv3_block3_2_bn (BatchNormali (None, 28, 28, 128)  512         conv3_block3_2_conv[0][0]        \n",
            "__________________________________________________________________________________________________\n",
            "conv3_block3_2_relu (Activation (None, 28, 28, 128)  0           conv3_block3_2_bn[0][0]          \n",
            "__________________________________________________________________________________________________\n",
            "conv3_block3_3_conv (Conv2D)    (None, 28, 28, 512)  66048       conv3_block3_2_relu[0][0]        \n",
            "__________________________________________________________________________________________________\n",
            "conv3_block3_3_bn (BatchNormali (None, 28, 28, 512)  2048        conv3_block3_3_conv[0][0]        \n",
            "__________________________________________________________________________________________________\n",
            "conv3_block3_add (Add)          (None, 28, 28, 512)  0           conv3_block2_out[0][0]           \n",
            "                                                                 conv3_block3_3_bn[0][0]          \n",
            "__________________________________________________________________________________________________\n",
            "conv3_block3_out (Activation)   (None, 28, 28, 512)  0           conv3_block3_add[0][0]           \n",
            "__________________________________________________________________________________________________\n",
            "conv3_block4_1_conv (Conv2D)    (None, 28, 28, 128)  65664       conv3_block3_out[0][0]           \n",
            "__________________________________________________________________________________________________\n",
            "conv3_block4_1_bn (BatchNormali (None, 28, 28, 128)  512         conv3_block4_1_conv[0][0]        \n",
            "__________________________________________________________________________________________________\n",
            "conv3_block4_1_relu (Activation (None, 28, 28, 128)  0           conv3_block4_1_bn[0][0]          \n",
            "__________________________________________________________________________________________________\n",
            "conv3_block4_2_conv (Conv2D)    (None, 28, 28, 128)  147584      conv3_block4_1_relu[0][0]        \n",
            "__________________________________________________________________________________________________\n",
            "conv3_block4_2_bn (BatchNormali (None, 28, 28, 128)  512         conv3_block4_2_conv[0][0]        \n",
            "__________________________________________________________________________________________________\n",
            "conv3_block4_2_relu (Activation (None, 28, 28, 128)  0           conv3_block4_2_bn[0][0]          \n",
            "__________________________________________________________________________________________________\n",
            "conv3_block4_3_conv (Conv2D)    (None, 28, 28, 512)  66048       conv3_block4_2_relu[0][0]        \n",
            "__________________________________________________________________________________________________\n",
            "conv3_block4_3_bn (BatchNormali (None, 28, 28, 512)  2048        conv3_block4_3_conv[0][0]        \n",
            "__________________________________________________________________________________________________\n",
            "conv3_block4_add (Add)          (None, 28, 28, 512)  0           conv3_block3_out[0][0]           \n",
            "                                                                 conv3_block4_3_bn[0][0]          \n",
            "__________________________________________________________________________________________________\n",
            "conv3_block4_out (Activation)   (None, 28, 28, 512)  0           conv3_block4_add[0][0]           \n",
            "__________________________________________________________________________________________________\n",
            "conv4_block1_1_conv (Conv2D)    (None, 14, 14, 256)  131328      conv3_block4_out[0][0]           \n",
            "__________________________________________________________________________________________________\n",
            "conv4_block1_1_bn (BatchNormali (None, 14, 14, 256)  1024        conv4_block1_1_conv[0][0]        \n",
            "__________________________________________________________________________________________________\n",
            "conv4_block1_1_relu (Activation (None, 14, 14, 256)  0           conv4_block1_1_bn[0][0]          \n",
            "__________________________________________________________________________________________________\n",
            "conv4_block1_2_conv (Conv2D)    (None, 14, 14, 256)  590080      conv4_block1_1_relu[0][0]        \n",
            "__________________________________________________________________________________________________\n",
            "conv4_block1_2_bn (BatchNormali (None, 14, 14, 256)  1024        conv4_block1_2_conv[0][0]        \n",
            "__________________________________________________________________________________________________\n",
            "conv4_block1_2_relu (Activation (None, 14, 14, 256)  0           conv4_block1_2_bn[0][0]          \n",
            "__________________________________________________________________________________________________\n",
            "conv4_block1_0_conv (Conv2D)    (None, 14, 14, 1024) 525312      conv3_block4_out[0][0]           \n",
            "__________________________________________________________________________________________________\n",
            "conv4_block1_3_conv (Conv2D)    (None, 14, 14, 1024) 263168      conv4_block1_2_relu[0][0]        \n",
            "__________________________________________________________________________________________________\n",
            "conv4_block1_0_bn (BatchNormali (None, 14, 14, 1024) 4096        conv4_block1_0_conv[0][0]        \n",
            "__________________________________________________________________________________________________\n",
            "conv4_block1_3_bn (BatchNormali (None, 14, 14, 1024) 4096        conv4_block1_3_conv[0][0]        \n",
            "__________________________________________________________________________________________________\n",
            "conv4_block1_add (Add)          (None, 14, 14, 1024) 0           conv4_block1_0_bn[0][0]          \n",
            "                                                                 conv4_block1_3_bn[0][0]          \n",
            "__________________________________________________________________________________________________\n",
            "conv4_block1_out (Activation)   (None, 14, 14, 1024) 0           conv4_block1_add[0][0]           \n",
            "__________________________________________________________________________________________________\n",
            "conv4_block2_1_conv (Conv2D)    (None, 14, 14, 256)  262400      conv4_block1_out[0][0]           \n",
            "__________________________________________________________________________________________________\n",
            "conv4_block2_1_bn (BatchNormali (None, 14, 14, 256)  1024        conv4_block2_1_conv[0][0]        \n",
            "__________________________________________________________________________________________________\n",
            "conv4_block2_1_relu (Activation (None, 14, 14, 256)  0           conv4_block2_1_bn[0][0]          \n",
            "__________________________________________________________________________________________________\n",
            "conv4_block2_2_conv (Conv2D)    (None, 14, 14, 256)  590080      conv4_block2_1_relu[0][0]        \n",
            "__________________________________________________________________________________________________\n",
            "conv4_block2_2_bn (BatchNormali (None, 14, 14, 256)  1024        conv4_block2_2_conv[0][0]        \n",
            "__________________________________________________________________________________________________\n",
            "conv4_block2_2_relu (Activation (None, 14, 14, 256)  0           conv4_block2_2_bn[0][0]          \n",
            "__________________________________________________________________________________________________\n",
            "conv4_block2_3_conv (Conv2D)    (None, 14, 14, 1024) 263168      conv4_block2_2_relu[0][0]        \n",
            "__________________________________________________________________________________________________\n",
            "conv4_block2_3_bn (BatchNormali (None, 14, 14, 1024) 4096        conv4_block2_3_conv[0][0]        \n",
            "__________________________________________________________________________________________________\n",
            "conv4_block2_add (Add)          (None, 14, 14, 1024) 0           conv4_block1_out[0][0]           \n",
            "                                                                 conv4_block2_3_bn[0][0]          \n",
            "__________________________________________________________________________________________________\n",
            "conv4_block2_out (Activation)   (None, 14, 14, 1024) 0           conv4_block2_add[0][0]           \n",
            "__________________________________________________________________________________________________\n",
            "conv4_block3_1_conv (Conv2D)    (None, 14, 14, 256)  262400      conv4_block2_out[0][0]           \n",
            "__________________________________________________________________________________________________\n",
            "conv4_block3_1_bn (BatchNormali (None, 14, 14, 256)  1024        conv4_block3_1_conv[0][0]        \n",
            "__________________________________________________________________________________________________\n",
            "conv4_block3_1_relu (Activation (None, 14, 14, 256)  0           conv4_block3_1_bn[0][0]          \n",
            "__________________________________________________________________________________________________\n",
            "conv4_block3_2_conv (Conv2D)    (None, 14, 14, 256)  590080      conv4_block3_1_relu[0][0]        \n",
            "__________________________________________________________________________________________________\n",
            "conv4_block3_2_bn (BatchNormali (None, 14, 14, 256)  1024        conv4_block3_2_conv[0][0]        \n",
            "__________________________________________________________________________________________________\n",
            "conv4_block3_2_relu (Activation (None, 14, 14, 256)  0           conv4_block3_2_bn[0][0]          \n",
            "__________________________________________________________________________________________________\n",
            "conv4_block3_3_conv (Conv2D)    (None, 14, 14, 1024) 263168      conv4_block3_2_relu[0][0]        \n",
            "__________________________________________________________________________________________________\n",
            "conv4_block3_3_bn (BatchNormali (None, 14, 14, 1024) 4096        conv4_block3_3_conv[0][0]        \n",
            "__________________________________________________________________________________________________\n",
            "conv4_block3_add (Add)          (None, 14, 14, 1024) 0           conv4_block2_out[0][0]           \n",
            "                                                                 conv4_block3_3_bn[0][0]          \n",
            "__________________________________________________________________________________________________\n",
            "conv4_block3_out (Activation)   (None, 14, 14, 1024) 0           conv4_block3_add[0][0]           \n",
            "__________________________________________________________________________________________________\n",
            "conv4_block4_1_conv (Conv2D)    (None, 14, 14, 256)  262400      conv4_block3_out[0][0]           \n",
            "__________________________________________________________________________________________________\n",
            "conv4_block4_1_bn (BatchNormali (None, 14, 14, 256)  1024        conv4_block4_1_conv[0][0]        \n",
            "__________________________________________________________________________________________________\n",
            "conv4_block4_1_relu (Activation (None, 14, 14, 256)  0           conv4_block4_1_bn[0][0]          \n",
            "__________________________________________________________________________________________________\n",
            "conv4_block4_2_conv (Conv2D)    (None, 14, 14, 256)  590080      conv4_block4_1_relu[0][0]        \n",
            "__________________________________________________________________________________________________\n",
            "conv4_block4_2_bn (BatchNormali (None, 14, 14, 256)  1024        conv4_block4_2_conv[0][0]        \n",
            "__________________________________________________________________________________________________\n",
            "conv4_block4_2_relu (Activation (None, 14, 14, 256)  0           conv4_block4_2_bn[0][0]          \n",
            "__________________________________________________________________________________________________\n",
            "conv4_block4_3_conv (Conv2D)    (None, 14, 14, 1024) 263168      conv4_block4_2_relu[0][0]        \n",
            "__________________________________________________________________________________________________\n",
            "conv4_block4_3_bn (BatchNormali (None, 14, 14, 1024) 4096        conv4_block4_3_conv[0][0]        \n",
            "__________________________________________________________________________________________________\n",
            "conv4_block4_add (Add)          (None, 14, 14, 1024) 0           conv4_block3_out[0][0]           \n",
            "                                                                 conv4_block4_3_bn[0][0]          \n",
            "__________________________________________________________________________________________________\n",
            "conv4_block4_out (Activation)   (None, 14, 14, 1024) 0           conv4_block4_add[0][0]           \n",
            "__________________________________________________________________________________________________\n",
            "conv4_block5_1_conv (Conv2D)    (None, 14, 14, 256)  262400      conv4_block4_out[0][0]           \n",
            "__________________________________________________________________________________________________\n",
            "conv4_block5_1_bn (BatchNormali (None, 14, 14, 256)  1024        conv4_block5_1_conv[0][0]        \n",
            "__________________________________________________________________________________________________\n",
            "conv4_block5_1_relu (Activation (None, 14, 14, 256)  0           conv4_block5_1_bn[0][0]          \n",
            "__________________________________________________________________________________________________\n",
            "conv4_block5_2_conv (Conv2D)    (None, 14, 14, 256)  590080      conv4_block5_1_relu[0][0]        \n",
            "__________________________________________________________________________________________________\n",
            "conv4_block5_2_bn (BatchNormali (None, 14, 14, 256)  1024        conv4_block5_2_conv[0][0]        \n",
            "__________________________________________________________________________________________________\n",
            "conv4_block5_2_relu (Activation (None, 14, 14, 256)  0           conv4_block5_2_bn[0][0]          \n",
            "__________________________________________________________________________________________________\n",
            "conv4_block5_3_conv (Conv2D)    (None, 14, 14, 1024) 263168      conv4_block5_2_relu[0][0]        \n",
            "__________________________________________________________________________________________________\n",
            "conv4_block5_3_bn (BatchNormali (None, 14, 14, 1024) 4096        conv4_block5_3_conv[0][0]        \n",
            "__________________________________________________________________________________________________\n",
            "conv4_block5_add (Add)          (None, 14, 14, 1024) 0           conv4_block4_out[0][0]           \n",
            "                                                                 conv4_block5_3_bn[0][0]          \n",
            "__________________________________________________________________________________________________\n",
            "conv4_block5_out (Activation)   (None, 14, 14, 1024) 0           conv4_block5_add[0][0]           \n",
            "__________________________________________________________________________________________________\n",
            "conv4_block6_1_conv (Conv2D)    (None, 14, 14, 256)  262400      conv4_block5_out[0][0]           \n",
            "__________________________________________________________________________________________________\n",
            "conv4_block6_1_bn (BatchNormali (None, 14, 14, 256)  1024        conv4_block6_1_conv[0][0]        \n",
            "__________________________________________________________________________________________________\n",
            "conv4_block6_1_relu (Activation (None, 14, 14, 256)  0           conv4_block6_1_bn[0][0]          \n",
            "__________________________________________________________________________________________________\n",
            "conv4_block6_2_conv (Conv2D)    (None, 14, 14, 256)  590080      conv4_block6_1_relu[0][0]        \n",
            "__________________________________________________________________________________________________\n",
            "conv4_block6_2_bn (BatchNormali (None, 14, 14, 256)  1024        conv4_block6_2_conv[0][0]        \n",
            "__________________________________________________________________________________________________\n",
            "conv4_block6_2_relu (Activation (None, 14, 14, 256)  0           conv4_block6_2_bn[0][0]          \n",
            "__________________________________________________________________________________________________\n",
            "conv4_block6_3_conv (Conv2D)    (None, 14, 14, 1024) 263168      conv4_block6_2_relu[0][0]        \n",
            "__________________________________________________________________________________________________\n",
            "conv4_block6_3_bn (BatchNormali (None, 14, 14, 1024) 4096        conv4_block6_3_conv[0][0]        \n",
            "__________________________________________________________________________________________________\n",
            "conv4_block6_add (Add)          (None, 14, 14, 1024) 0           conv4_block5_out[0][0]           \n",
            "                                                                 conv4_block6_3_bn[0][0]          \n",
            "__________________________________________________________________________________________________\n",
            "conv4_block6_out (Activation)   (None, 14, 14, 1024) 0           conv4_block6_add[0][0]           \n",
            "__________________________________________________________________________________________________\n",
            "conv5_block1_1_conv (Conv2D)    (None, 7, 7, 512)    524800      conv4_block6_out[0][0]           \n",
            "__________________________________________________________________________________________________\n",
            "conv5_block1_1_bn (BatchNormali (None, 7, 7, 512)    2048        conv5_block1_1_conv[0][0]        \n",
            "__________________________________________________________________________________________________\n",
            "conv5_block1_1_relu (Activation (None, 7, 7, 512)    0           conv5_block1_1_bn[0][0]          \n",
            "__________________________________________________________________________________________________\n",
            "conv5_block1_2_conv (Conv2D)    (None, 7, 7, 512)    2359808     conv5_block1_1_relu[0][0]        \n",
            "__________________________________________________________________________________________________\n",
            "conv5_block1_2_bn (BatchNormali (None, 7, 7, 512)    2048        conv5_block1_2_conv[0][0]        \n",
            "__________________________________________________________________________________________________\n",
            "conv5_block1_2_relu (Activation (None, 7, 7, 512)    0           conv5_block1_2_bn[0][0]          \n",
            "__________________________________________________________________________________________________\n",
            "conv5_block1_0_conv (Conv2D)    (None, 7, 7, 2048)   2099200     conv4_block6_out[0][0]           \n",
            "__________________________________________________________________________________________________\n",
            "conv5_block1_3_conv (Conv2D)    (None, 7, 7, 2048)   1050624     conv5_block1_2_relu[0][0]        \n",
            "__________________________________________________________________________________________________\n",
            "conv5_block1_0_bn (BatchNormali (None, 7, 7, 2048)   8192        conv5_block1_0_conv[0][0]        \n",
            "__________________________________________________________________________________________________\n",
            "conv5_block1_3_bn (BatchNormali (None, 7, 7, 2048)   8192        conv5_block1_3_conv[0][0]        \n",
            "__________________________________________________________________________________________________\n",
            "conv5_block1_add (Add)          (None, 7, 7, 2048)   0           conv5_block1_0_bn[0][0]          \n",
            "                                                                 conv5_block1_3_bn[0][0]          \n",
            "__________________________________________________________________________________________________\n",
            "conv5_block1_out (Activation)   (None, 7, 7, 2048)   0           conv5_block1_add[0][0]           \n",
            "__________________________________________________________________________________________________\n",
            "conv5_block2_1_conv (Conv2D)    (None, 7, 7, 512)    1049088     conv5_block1_out[0][0]           \n",
            "__________________________________________________________________________________________________\n",
            "conv5_block2_1_bn (BatchNormali (None, 7, 7, 512)    2048        conv5_block2_1_conv[0][0]        \n",
            "__________________________________________________________________________________________________\n",
            "conv5_block2_1_relu (Activation (None, 7, 7, 512)    0           conv5_block2_1_bn[0][0]          \n",
            "__________________________________________________________________________________________________\n",
            "conv5_block2_2_conv (Conv2D)    (None, 7, 7, 512)    2359808     conv5_block2_1_relu[0][0]        \n",
            "__________________________________________________________________________________________________\n",
            "conv5_block2_2_bn (BatchNormali (None, 7, 7, 512)    2048        conv5_block2_2_conv[0][0]        \n",
            "__________________________________________________________________________________________________\n",
            "conv5_block2_2_relu (Activation (None, 7, 7, 512)    0           conv5_block2_2_bn[0][0]          \n",
            "__________________________________________________________________________________________________\n",
            "conv5_block2_3_conv (Conv2D)    (None, 7, 7, 2048)   1050624     conv5_block2_2_relu[0][0]        \n",
            "__________________________________________________________________________________________________\n",
            "conv5_block2_3_bn (BatchNormali (None, 7, 7, 2048)   8192        conv5_block2_3_conv[0][0]        \n",
            "__________________________________________________________________________________________________\n",
            "conv5_block2_add (Add)          (None, 7, 7, 2048)   0           conv5_block1_out[0][0]           \n",
            "                                                                 conv5_block2_3_bn[0][0]          \n",
            "__________________________________________________________________________________________________\n",
            "conv5_block2_out (Activation)   (None, 7, 7, 2048)   0           conv5_block2_add[0][0]           \n",
            "__________________________________________________________________________________________________\n",
            "conv5_block3_1_conv (Conv2D)    (None, 7, 7, 512)    1049088     conv5_block2_out[0][0]           \n",
            "__________________________________________________________________________________________________\n",
            "conv5_block3_1_bn (BatchNormali (None, 7, 7, 512)    2048        conv5_block3_1_conv[0][0]        \n",
            "__________________________________________________________________________________________________\n",
            "conv5_block3_1_relu (Activation (None, 7, 7, 512)    0           conv5_block3_1_bn[0][0]          \n",
            "__________________________________________________________________________________________________\n",
            "conv5_block3_2_conv (Conv2D)    (None, 7, 7, 512)    2359808     conv5_block3_1_relu[0][0]        \n",
            "__________________________________________________________________________________________________\n",
            "conv5_block3_2_bn (BatchNormali (None, 7, 7, 512)    2048        conv5_block3_2_conv[0][0]        \n",
            "__________________________________________________________________________________________________\n",
            "conv5_block3_2_relu (Activation (None, 7, 7, 512)    0           conv5_block3_2_bn[0][0]          \n",
            "__________________________________________________________________________________________________\n",
            "conv5_block3_3_conv (Conv2D)    (None, 7, 7, 2048)   1050624     conv5_block3_2_relu[0][0]        \n",
            "__________________________________________________________________________________________________\n",
            "conv5_block3_3_bn (BatchNormali (None, 7, 7, 2048)   8192        conv5_block3_3_conv[0][0]        \n",
            "__________________________________________________________________________________________________\n",
            "conv5_block3_add (Add)          (None, 7, 7, 2048)   0           conv5_block2_out[0][0]           \n",
            "                                                                 conv5_block3_3_bn[0][0]          \n",
            "__________________________________________________________________________________________________\n",
            "conv5_block3_out (Activation)   (None, 7, 7, 2048)   0           conv5_block3_add[0][0]           \n",
            "__________________________________________________________________________________________________\n",
            "avg_pool (GlobalAveragePooling2 (None, 2048)         0           conv5_block3_out[0][0]           \n",
            "__________________________________________________________________________________________________\n",
            "predictions (Dense)             (None, 1000)         2049000     avg_pool[0][0]                   \n",
            "==================================================================================================\n",
            "Total params: 25,636,712\n",
            "Trainable params: 25,583,592\n",
            "Non-trainable params: 53,120\n",
            "__________________________________________________________________________________________________\n"
          ]
        }
      ],
      "metadata": {}
    },
    {
      "cell_type": "markdown",
      "source": [
        "As you can see, the model contains the same familiar building blocks: convolutional layers, pooling layers and final dense classifier. We can use this model in exactly the same manner as we have been using VGG-16 for transfer learning. You can try experimenting with the code above, using different ResNet models as the base model, and see how accuracy changes.\r\n",
        "\r\n",
        "## Batch Normalization\r\n",
        "\r\n",
        "This network contains yet another type of layer: **Batch Normalization**. The idea of batch normalization is to bring values that flow through the neural network to right interval. Usually neural networks work best when all values are in the range of [-1,1] or [0,1], and that is the reason that we scale/normalize our input data accordingly. However, during training of a deep network, it can happen that values get significantly out of this range, which makes training problematic. Batch normalization layer computes average and standard deviation for all values of the current minibatch, and uses them to normalize the signal before passing it through a neural network layer. This significantly improves the stability of deep networks."
      ],
      "metadata": {}
    },
    {
      "cell_type": "markdown",
      "source": [
        "## Takeaway\r\n",
        "\r\n",
        "With transfer learning we were able to quickly put together a classifier for our custom object classification task and achieve high accuracy. This example was not completely fair because original VGG-16 network was pre-trained to recognize cats and dogs, and thus we were just reusing most of the patterns that were already present in the network. You can expect lower accuracy other domain-specific objects, such as details on production line in a plant or different tree leaves.\r\n",
        "\r\n",
        "You can see that more complex tasks require higher computational power and cannot be easily solved on the CPU. In the next unit, we will try to use a more lightweight implementation to train the same model using lower compute resources, which results in just slightly lower accuracy. "
      ],
      "metadata": {}
    },
    {
      "cell_type": "code",
      "execution_count": null,
      "source": [],
      "outputs": [],
      "metadata": {}
    }
  ],
  "metadata": {
    "kernelspec": {
      "display_name": "py37_tensorflow",
      "language": "python",
      "name": "conda-env-py37_tensorflow-py"
    },
    "language_info": {
      "codemirror_mode": {
        "name": "ipython",
        "version": 3
      },
      "file_extension": ".py",
      "mimetype": "text/x-python",
      "name": "python",
      "nbconvert_exporter": "python",
      "pygments_lexer": "ipython3",
      "version": "3.8.10"
    }
  },
  "nbformat": 4,
  "nbformat_minor": 4
}