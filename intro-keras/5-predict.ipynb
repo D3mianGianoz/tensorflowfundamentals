{
 "cells": [
  {
   "cell_type": "code",
   "execution_count": 9,
   "source": [
    "import os\n",
    "os.environ[\"CUDA_VISIBLE_DEVICES\"] = \"-1\"\n",
    "\n",
    "import gzip\n",
    "import numpy as np\n",
    "import tensorflow as tf\n",
    "from typing import Tuple"
   ],
   "outputs": [],
   "metadata": {}
  },
  {
   "cell_type": "markdown",
   "source": [
    "Assuming we achieved pretty good accuracy during the training and testing phases, we can now use the trained model for inference &mdash; in other words, to predict the classification of images that the network has never seen before.\n",
    "\n",
    "But before we move on, we'll bring in some code you've already seen in previous notebooks. We'll need it later."
   ],
   "metadata": {}
  },
  {
   "cell_type": "code",
   "execution_count": 10,
   "source": [
    "labels_map = {\n",
    "  0: 'T-Shirt',\n",
    "  1: 'Trouser',\n",
    "  2: 'Pullover',\n",
    "  3: 'Dress',\n",
    "  4: 'Coat',\n",
    "  5: 'Sandal',\n",
    "  6: 'Shirt',\n",
    "  7: 'Sneaker',\n",
    "  8: 'Bag',\n",
    "  9: 'Ankle Boot',\n",
    "}\n",
    "\n",
    "def read_images(path: str, image_size: int, num_items: int) -> np.ndarray:\n",
    "  f = gzip.open(path,'r')\n",
    "  buf = f.read(image_size * image_size * num_items)\n",
    "  data = np.frombuffer(buf, dtype=np.uint8).astype(np.float32)\n",
    "  data = data.reshape(num_items, image_size, image_size)\n",
    "  return data\n",
    "\n",
    "\n",
    "def read_labels(path: str, num_items: int) -> np.ndarray:\n",
    "  f = gzip.open(path,'r')\n",
    "  f.read(8)\n",
    "  buf = f.read(num_items)\n",
    "  data = np.frombuffer(buf, dtype=np.uint8).astype(np.int64)\n",
    "  data = data.reshape(num_items)\n",
    "  return data\n",
    "\n",
    "\n",
    "def get_data(batch_size: int) -> Tuple[tf.data.Dataset, tf.data.Dataset]:\n",
    "  image_size = 28\n",
    "  num_train = 60000\n",
    "  num_test = 10000\n",
    "\n",
    "  training_images = read_images('data/FashionMNIST/raw/train-images-idx3-ubyte.gz', image_size, num_train)\n",
    "  test_images = read_images('data/FashionMNIST/raw/t10k-images-idx3-ubyte.gz', image_size, num_test)\n",
    "  training_labels = read_labels('data/FashionMNIST/raw/train-labels-idx1-ubyte.gz', num_train)\n",
    "  test_labels = read_labels('data/FashionMNIST/raw/t10k-labels-idx1-ubyte.gz', num_test)\n",
    "\n",
    "  # (training_images, training_labels), (test_images, test_labels) = tf.keras.datasets.fashion_mnist.load_data()\n",
    "\n",
    "  train_dataset = tf.data.Dataset.from_tensor_slices((training_images, training_labels))\n",
    "  test_dataset = tf.data.Dataset.from_tensor_slices((test_images, test_labels))\n",
    "\n",
    "  train_dataset = train_dataset.map(lambda image, label: (float(image) / 255.0, label))\n",
    "  test_dataset = test_dataset.map(lambda image, label: (float(image) / 255.0, label))\n",
    "\n",
    "  train_dataset = train_dataset.batch(batch_size).shuffle(500)\n",
    "  test_dataset = test_dataset.batch(batch_size).shuffle(500)\n",
    "\n",
    "  return (train_dataset, test_dataset)\n",
    "\n",
    "\n",
    "def get_model() -> tf.keras.Sequential:\n",
    "  model = tf.keras.Sequential([\n",
    "    tf.keras.layers.Flatten(input_shape=(28, 28)),\n",
    "    tf.keras.layers.Dense(512, activation='relu'),\n",
    "    tf.keras.layers.Dense(512, activation='relu'),\n",
    "    tf.keras.layers.Dense(10)\n",
    "  ])\n",
    "  return model"
   ],
   "outputs": [],
   "metadata": {}
  },
  {
   "cell_type": "markdown",
   "source": [
    "Remember that in the previous notebook, after successfully training our network, we saved the weights of the model. We can now reconstruct a trained model using those weights."
   ],
   "metadata": {}
  },
  {
   "cell_type": "code",
   "execution_count": 11,
   "source": [
    "model = get_model()\n",
    "model.load_weights('outputs/weights').expect_partial()"
   ],
   "outputs": [
    {
     "output_type": "execute_result",
     "data": {
      "text/plain": [
       "<tensorflow.python.training.tracking.util.CheckpointLoadStatus at 0x7f06b453de50>"
      ]
     },
     "metadata": {},
     "execution_count": 11
    }
   ],
   "metadata": {}
  },
  {
   "cell_type": "markdown",
   "source": [
    "Making a prediction is easy &mdash; we simply call the model's `predict` method and pass it some images. The true power of a neural network is its ability to make predictions for data that has not been seen during training or testing. But for the sake of simplicity, we'll demonstrate how prediction works by re-using a few of the images that we used during testing. The code below retrieves the first three images in our test data and uses them to make predictions. We then print the actual and predicted labels."
   ],
   "metadata": {}
  },
  {
   "cell_type": "code",
   "execution_count": 12,
   "source": [
    "batch_size = 64\n",
    "\n",
    "(_, test_dataset) = get_data(batch_size)\n",
    "(X_batch, actual_index_batch) = test_dataset.as_numpy_iterator().next()\n",
    "X = X_batch[0:3, :, :]\n",
    "actual_indices = actual_index_batch[0:3]\n",
    "\n",
    "predictions = model.predict(X)\n",
    "\n",
    "print('\\nPredicting:')\n",
    "for (actual_index, prediction) in zip(actual_indices, predictions):\n",
    "  actual_name = labels_map[actual_index]\n",
    "  predicted_index = tf.math.argmax(prediction).numpy()\n",
    "  predicted_name = labels_map[predicted_index]\n",
    "  print(f'Actual: {actual_name}, Predicted: {predicted_name}')"
   ],
   "outputs": [
    {
     "output_type": "stream",
     "name": "stdout",
     "text": [
      "\n",
      "Predicting:\n",
      "Actual: Coat, Predicted: Coat\n",
      "Actual: Dress, Predicted: Dress\n",
      "Actual: T-Shirt, Predicted: T-Shirt\n"
     ]
    }
   ],
   "metadata": {}
  },
  {
   "cell_type": "markdown",
   "source": [
    "With only two epochs of training, our network isn't very accurate, but it should get at least two out of three predictions right. You can increase the number of epochs in the training phase to get better predictions.\n"
   ],
   "metadata": {}
  }
 ],
 "metadata": {
  "interpreter": {
   "hash": "a7d8d32a02de2fe32a77a4e581138922e011c09664b6c2991156e76c4176efab"
  },
  "kernelspec": {
   "name": "python3",
   "display_name": "Python 3.8.10 64-bit ('fashion-tf': conda)"
  },
  "language_info": {
   "codemirror_mode": {
    "name": "ipython",
    "version": 3
   },
   "file_extension": ".py",
   "mimetype": "text/x-python",
   "name": "python",
   "nbconvert_exporter": "python",
   "pygments_lexer": "ipython3",
   "version": "3.8.10"
  },
  "orig_nbformat": 4
 },
 "nbformat": 4,
 "nbformat_minor": 2
}