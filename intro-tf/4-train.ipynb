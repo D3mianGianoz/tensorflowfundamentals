{
 "cells": [
  {
   "cell_type": "code",
   "execution_count": 12,
   "source": [
    "import os\n",
    "os.environ[\"CUDA_VISIBLE_DEVICES\"] = \"-1\"\n",
    "\n",
    "import gzip\n",
    "import numpy as np\n",
    "import tensorflow as tf\n",
    "from typing import Tuple"
   ],
   "outputs": [],
   "metadata": {}
  },
  {
   "cell_type": "markdown",
   "source": [
    "Now that you've learned about tensors, variables, and automatic differentiation, you're ready to learn how to train a neural network using TensorFlow. You've already seen how to train a neural network using Keras in [module 1](../intro-machine-learning-keras) &mdash; in this notebook, we'll re-implement the training loop in TensorFlow. This will help you understand what goes on under the hood a bit better, will give you the opportunity to customize the training loop if you want, and will enable you to debug it.\n",
    "\n",
    "We'll start by including code that gives us the datasets and model that we'll use in the remainder of this notebook. If some part of this code doesn't make sense to you, make sure you review module 1 of this learning path, where we explain this code in detail."
   ],
   "metadata": {}
  },
  {
   "cell_type": "code",
   "execution_count": 13,
   "source": [
    "labels_map = {\n",
    "    0: 'T-Shirt',\n",
    "    1: 'Trouser',\n",
    "    2: 'Pullover',\n",
    "    3: 'Dress',\n",
    "    4: 'Coat',\n",
    "    5: 'Sandal',\n",
    "    6: 'Shirt',\n",
    "    7: 'Sneaker',\n",
    "    8: 'Bag',\n",
    "    9: 'Ankle Boot',\n",
    "  }\n",
    "\n",
    "\n",
    "def read_images(path: str, image_size: int, num_items: int) -> np.ndarray:\n",
    "  f = gzip.open(path,'r')\n",
    "  buf = f.read(image_size * image_size * num_items)\n",
    "  data = np.frombuffer(buf, dtype=np.uint8).astype(np.float32)\n",
    "  data = data.reshape(num_items, image_size, image_size)\n",
    "  return data\n",
    "\n",
    "\n",
    "def read_labels(path: str, num_items: int) -> np.ndarray:\n",
    "  f = gzip.open(path,'r')\n",
    "  f.read(8)\n",
    "  buf = f.read(num_items)\n",
    "  data = np.frombuffer(buf, dtype=np.uint8).astype(np.int64)\n",
    "  data = data.reshape(num_items)\n",
    "  return data\n",
    "\n",
    "\n",
    "def get_data(batch_size: int) -> Tuple[tf.data.Dataset, tf.data.Dataset]:\n",
    "  image_size = 28\n",
    "  num_train = 60000\n",
    "  num_test = 10000\n",
    "\n",
    "  training_images = read_images('data/FashionMNIST/raw/train-images-idx3-ubyte.gz', image_size, num_train)\n",
    "  test_images = read_images('data/FashionMNIST/raw/t10k-images-idx3-ubyte.gz', image_size, num_test)\n",
    "  training_labels = read_labels('data/FashionMNIST/raw/train-labels-idx1-ubyte.gz', num_train)\n",
    "  test_labels = read_labels('data/FashionMNIST/raw/t10k-labels-idx1-ubyte.gz', num_test)\n",
    "\n",
    "  # (training_images, training_labels), (test_images, test_labels) = tf.keras.datasets.fashion_mnist.load_data()\n",
    "\n",
    "  train_dataset = tf.data.Dataset.from_tensor_slices((training_images, training_labels))\n",
    "  test_dataset = tf.data.Dataset.from_tensor_slices((test_images, test_labels))\n",
    "\n",
    "  train_dataset = train_dataset.map(lambda image, label: (float(image) / 255.0, label))\n",
    "  test_dataset = test_dataset.map(lambda image, label: (float(image) / 255.0, label))\n",
    "\n",
    "  train_dataset = train_dataset.batch(batch_size).shuffle(500)\n",
    "  test_dataset = test_dataset.batch(batch_size).shuffle(500)\n",
    "\n",
    "  return (train_dataset, test_dataset)\n",
    "\n",
    "\n",
    "def get_model() -> tf.keras.Model:\n",
    "  model = tf.keras.Sequential([\n",
    "    tf.keras.layers.Flatten(input_shape=(28, 28)),\n",
    "    tf.keras.layers.Dense(512, activation='relu'),\n",
    "    tf.keras.layers.Dense(512, activation='relu'),\n",
    "    tf.keras.layers.Dense(10)\n",
    "  ])\n",
    "  return model"
   ],
   "outputs": [],
   "metadata": {}
  },
  {
   "cell_type": "markdown",
   "source": [
    "As we mentioned in module 1, the goal of training the neural network is to find parameters $W$ and $b$ that minimize the loss function, which measures the difference between the actual and predicted labels. We can visualize this in the following diagram:\n",
    "\n",
    "![Basic neural network with details](notebooks/images/1-basic-nn-with-details.png)\n",
    "\n",
    "We also mentioned that we can think of the neural network as the function $\\ell$ below, and that we use an optimization algorithm to find the parameters $W$ and $b$ that minimize this function.\n",
    "\n",
    "$$\n",
    "\\mathrm{loss} = \\ell(X, y, W, b)\n",
    "$$\n",
    "\n",
    "Let's now dig deeper into what this optimization algorithm might look like. There are many types of optimization algorithms, but in this tutorial we'll cover only the simplest one: the gradient descent algorithm. To implement gradient descent, we iteratively improve our estimates of $W$ and $b$ according to the update formulas below, until the gradients are smaller than a pre-defined threshold $\\epsilon$ (or for a pre-defined number of times):\n",
    "\n",
    "$$\n",
    "\\begin{align}\n",
    "  W &:= W - \\alpha \\frac{\\partial \\ell}{\\partial W} \\\\\n",
    "  b &:= b - \\alpha \\frac{\\partial \\ell}{\\partial b}\n",
    "\\end{align}\n",
    "$$\n",
    "\n",
    "The parameter $\\alpha$ is typically referred to as the \"learning rate,\" and will be defined later in the code. \n",
    "\n",
    "When doing training, we pass a mini-batch of data as input, perform a sequence of calculations to obtain the loss, then propagate back through the network to calculate the derivatives used in the gradient descent formulas above. Once we have the derivatives, we can update the values of the network's parameters $W$ and $b$ according to the formulas. This sequence of steps is the backpropagation algorithm. By performing these calculations several times, our parameters get updated repeatedly, getting more and more accurate each time. \n",
    "\n",
    "In Keras, when we called the function [`fit`](https://www.tensorflow.org/api_docs/python/tf/keras/Model#fit), the backpropagation algorithm was executed several times. Here, we'll start by understanding the code that reflects a single pass of the backpropagation algorithm:\n",
    "\n",
    "- a forward pass through the model to compute the predicted value, `y_prime = model(X, training=True)`\n",
    "- a calculation of the loss using a loss function, `loss = loss_fn(y, y_prime)`\n",
    "- a backward pass from the loss function through the model to calculate derivatives, `grads = tape.gradient(loss, model.trainable_variables)`\n",
    "- a gradient descent step to update $W$ and $b$ using the derivatives calculated in the backward pass, `optimizer.apply_gradients(zip(grads, model.trainable_variables))`\n",
    "\n",
    "Here's the complete code:"
   ],
   "metadata": {}
  },
  {
   "cell_type": "code",
   "execution_count": 14,
   "source": [
    "def fit_one_batch(X, y, model, loss_fn, optimizer) -> Tuple[tf.Tensor, tf.Tensor]:\n",
    "  with tf.GradientTape() as tape:\n",
    "    y_prime = model(X, training=True)\n",
    "    loss = loss_fn(y, y_prime)\n",
    "\n",
    "  grads = tape.gradient(loss, model.trainable_variables)\n",
    "  optimizer.apply_gradients(zip(grads, model.trainable_variables))\n",
    "\n",
    "  return (y_prime, loss)"
   ],
   "outputs": [],
   "metadata": {}
  },
  {
   "cell_type": "markdown",
   "source": [
    "Notice that the code above ensures that the forward calculations are within the `GradientTape`'s scope, just as we saw in the previous notebook. This makes it possible for us to ask the tape for the gradients. \n",
    "\n",
    "The code above works for a single mini-batch, which is typically much smaller than the full set of data (in this sample we use a mini-batch of size 64, out of 60,000 training data items). But we want to execute the backpropagation algorithm for the full set of data. We can do so by iterating through the `Dataset` we created earlier, which, as we saw in module 1, returns a mini-batch per iteration. There are two critical lines in the code below: the `for` loop and the call to the `fit_one_batch` function. The rest of the code just prints the accuracy and loss as the model is being trained. "
   ],
   "metadata": {}
  },
  {
   "cell_type": "code",
   "execution_count": 15,
   "source": [
    "def fit(dataset: tf.data.Dataset, model: tf.keras.Model, loss_fn: tf.keras.losses.Loss, \n",
    "optimizer: tf.optimizers.Optimizer) -> None:\n",
    "  batch_count = len(dataset)\n",
    "  loss_sum = 0\n",
    "  correct_item_count = 0\n",
    "  current_item_count = 0\n",
    "  print_every = 100\n",
    "\n",
    "  for batch_index, (X, y) in enumerate(dataset):\n",
    "    (y_prime, loss) = fit_one_batch(X, y, model, loss_fn, optimizer)\n",
    "\n",
    "    y = tf.cast(y, tf.int64)\n",
    "    correct_item_count += (tf.math.argmax(y_prime, axis=1) == y).numpy().sum()\n",
    "\n",
    "    batch_loss = loss.numpy()\n",
    "    loss_sum += batch_loss\n",
    "    current_item_count += len(X)\n",
    "\n",
    "    if ((batch_index + 1) % print_every == 0) or ((batch_index + 1) == batch_count):\n",
    "      batch_accuracy = correct_item_count / current_item_count * 100\n",
    "      print(f'[Batch {batch_index + 1:>3d} - {current_item_count:>5d} items] accuracy: {batch_accuracy:>0.1f}%, loss: {batch_loss:>7f}')"
   ],
   "outputs": [],
   "metadata": {}
  },
  {
   "cell_type": "markdown",
   "source": [
    "A complete iteration over all mini-batches in the dataset is called an \"epoch.\" In this sample, we restrict the code to just two epochs for quick execution, but in a real project you would want to set it to a much higher number (to achieve better predictions). The code below also shows the creation of the loss function and optimizer, which we discussed in module 1."
   ],
   "metadata": {}
  },
  {
   "cell_type": "code",
   "execution_count": 16,
   "source": [
    "learning_rate = 0.1\n",
    "batch_size = 64\n",
    "epochs = 2\n",
    "\n",
    "(train_dataset, test_dataset) = get_data(batch_size)\n",
    "\n",
    "model = get_model()\n",
    "\n",
    "loss_fn = tf.keras.losses.SparseCategoricalCrossentropy(from_logits=True)\n",
    "optimizer = tf.optimizers.SGD(learning_rate)\n",
    "\n",
    "print('\\nFitting:')\n",
    "for epoch in range(epochs):\n",
    "  print(f'\\nEpoch {epoch + 1}\\n-------------------------------')\n",
    "  fit(train_dataset, model, loss_fn, optimizer)"
   ],
   "outputs": [
    {
     "output_type": "stream",
     "name": "stdout",
     "text": [
      "\n",
      "Fitting:\n",
      "\n",
      "Epoch 1\n",
      "-------------------------------\n",
      "[Batch 100 -  6400 items] accuracy: 66.5%, loss: 0.427791\n",
      "[Batch 200 - 12800 items] accuracy: 71.7%, loss: 0.531154\n",
      "[Batch 300 - 19200 items] accuracy: 74.5%, loss: 0.633206\n",
      "[Batch 400 - 25600 items] accuracy: 76.3%, loss: 0.463422\n",
      "[Batch 500 - 32000 items] accuracy: 77.4%, loss: 0.535287\n",
      "[Batch 600 - 38400 items] accuracy: 78.4%, loss: 0.443898\n",
      "[Batch 700 - 44800 items] accuracy: 79.0%, loss: 0.483363\n",
      "[Batch 800 - 51200 items] accuracy: 79.6%, loss: 0.345122\n",
      "[Batch 900 - 57600 items] accuracy: 80.1%, loss: 0.452171\n",
      "[Batch 938 - 60000 items] accuracy: 80.3%, loss: 0.254047\n",
      "\n",
      "Epoch 2\n",
      "-------------------------------\n",
      "[Batch 100 -  6400 items] accuracy: 85.3%, loss: 0.261079\n",
      "[Batch 200 - 12800 items] accuracy: 85.0%, loss: 0.276227\n",
      "[Batch 300 - 19200 items] accuracy: 85.4%, loss: 0.381788\n",
      "[Batch 400 - 25600 items] accuracy: 85.4%, loss: 0.250696\n",
      "[Batch 500 - 32000 items] accuracy: 85.6%, loss: 0.390308\n",
      "[Batch 600 - 38400 items] accuracy: 85.6%, loss: 0.265205\n",
      "[Batch 700 - 44800 items] accuracy: 85.7%, loss: 0.330852\n",
      "[Batch 800 - 51200 items] accuracy: 85.6%, loss: 0.301268\n",
      "[Batch 900 - 57568 items] accuracy: 85.6%, loss: 0.442058\n",
      "[Batch 938 - 60000 items] accuracy: 85.6%, loss: 0.323048\n"
     ]
    }
   ],
   "metadata": {}
  }
 ],
 "metadata": {
  "interpreter": {
   "hash": "a7d8d32a02de2fe32a77a4e581138922e011c09664b6c2991156e76c4176efab"
  },
  "kernelspec": {
   "name": "python3",
   "display_name": "Python 3.8.10 64-bit ('fashion-tf': conda)"
  },
  "language_info": {
   "name": "python",
   "version": "3.8.10",
   "mimetype": "text/x-python",
   "codemirror_mode": {
    "name": "ipython",
    "version": 3
   },
   "pygments_lexer": "ipython3",
   "nbconvert_exporter": "python",
   "file_extension": ".py"
  },
  "orig_nbformat": 4
 },
 "nbformat": 4,
 "nbformat_minor": 2
}