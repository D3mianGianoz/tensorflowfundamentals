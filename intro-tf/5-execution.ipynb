{
 "cells": [
  {
   "cell_type": "code",
   "execution_count": 6,
   "source": [
    "import os\n",
    "os.environ[\"CUDA_VISIBLE_DEVICES\"] = \"-1\"\n",
    "\n",
    "import gzip\n",
    "import numpy as np\n",
    "import tensorflow as tf\n",
    "from typing import Tuple\n",
    "import time"
   ],
   "outputs": [],
   "metadata": {}
  },
  {
   "cell_type": "markdown",
   "source": [
    "Up until now, we've been running our code in \"[eager execution](https://www.tensorflow.org/guide/eager)\" mode, which is enabled by default. In this mode, the flow of code execution happens in the order we're accustomed to, and we can add breakpoints and inspect the values of our tensors and variables as usual.\n",
    "\n",
    "In contrast, when in \"[graph execution](https://www.tensorflow.org/guide/intro_to_graphs)\" mode, the code execution flows a bit differently: during the first pass through the code, a graph is created containing information about the operations and tensors in that code. Then in subsequent passes, the graph is used instead of the Python code. One consequence of this flow is that our code is not debuggable in the usual manner. We gain two major advantages though:\n",
    "- The graph can be deployed to environments that don't have Python, such as embedded devices. \n",
    "- The graph can take advantage of several performance optimizations, such as running parts of the code in parallel.\n",
    "\n",
    "In order to get the best of both worlds, we use eager execution mode during the development phase, and then switch to graph execution mode once we're done debugging the model. To switch from eager to graph execution, we can add the `@tf.function` decorator to the function containing our model operations.\n",
    "\n",
    "Let's look at the training code again, but this time with the `@tf.function` decorator applied to the `fit_one_batch` function, which is where we have all the model operations."
   ],
   "metadata": {}
  },
  {
   "cell_type": "code",
   "execution_count": 7,
   "source": [
    "labels_map = {\n",
    "    0: 'T-Shirt',\n",
    "    1: 'Trouser',\n",
    "    2: 'Pullover',\n",
    "    3: 'Dress',\n",
    "    4: 'Coat',\n",
    "    5: 'Sandal',\n",
    "    6: 'Shirt',\n",
    "    7: 'Sneaker',\n",
    "    8: 'Bag',\n",
    "    9: 'Ankle Boot',\n",
    "  }\n",
    "\n",
    "\n",
    "def read_images(path: str, image_size: int, num_items: int) -> np.ndarray:\n",
    "  f = gzip.open(path,'r')\n",
    "  buf = f.read(image_size * image_size * num_items)\n",
    "  data = np.frombuffer(buf, dtype=np.uint8).astype(np.float32)\n",
    "  data = data.reshape(num_items, image_size, image_size)\n",
    "  return data\n",
    "\n",
    "\n",
    "def read_labels(path: str, num_items: int) -> np.ndarray:\n",
    "  f = gzip.open(path,'r')\n",
    "  f.read(8)\n",
    "  buf = f.read(num_items)\n",
    "  data = np.frombuffer(buf, dtype=np.uint8).astype(np.int64)\n",
    "  data = data.reshape(num_items)\n",
    "  return data\n",
    "\n",
    "\n",
    "def get_data(batch_size: int) -> Tuple[tf.data.Dataset, tf.data.Dataset]:\n",
    "  image_size = 28\n",
    "  num_train = 60000\n",
    "  num_test = 10000\n",
    "\n",
    "  training_images = read_images('data/FashionMNIST/raw/train-images-idx3-ubyte.gz', image_size, num_train)\n",
    "  test_images = read_images('data/FashionMNIST/raw/t10k-images-idx3-ubyte.gz', image_size, num_test)\n",
    "  training_labels = read_labels('data/FashionMNIST/raw/train-labels-idx1-ubyte.gz', num_train)\n",
    "  test_labels = read_labels('data/FashionMNIST/raw/t10k-labels-idx1-ubyte.gz', num_test)\n",
    "\n",
    "  # (training_images, training_labels), (test_images, test_labels) = tf.keras.datasets.fashion_mnist.load_data()\n",
    "\n",
    "  train_dataset = tf.data.Dataset.from_tensor_slices((training_images, training_labels))\n",
    "  test_dataset = tf.data.Dataset.from_tensor_slices((test_images, test_labels))\n",
    "\n",
    "  train_dataset = train_dataset.map(lambda image, label: (float(image) / 255.0, label))\n",
    "  test_dataset = test_dataset.map(lambda image, label: (float(image) / 255.0, label))\n",
    "\n",
    "  train_dataset = train_dataset.batch(batch_size).shuffle(500)\n",
    "  test_dataset = test_dataset.batch(batch_size).shuffle(500)\n",
    "\n",
    "  return (train_dataset, test_dataset)\n",
    "\n",
    "\n",
    "def get_model() -> tf.keras.Model:\n",
    "  model = tf.keras.Sequential([\n",
    "    tf.keras.layers.Flatten(input_shape=(28, 28)),\n",
    "    tf.keras.layers.Dense(512, activation='relu'),\n",
    "    tf.keras.layers.Dense(512, activation='relu'),\n",
    "    tf.keras.layers.Dense(10)\n",
    "  ])\n",
    "  return model\n",
    "\n",
    "\n",
    "@tf.function\n",
    "def fit_one_batch(X: tf.Tensor, y: tf.Tensor, model: tf.keras.Model, loss_fn: tf.keras.losses.Loss, \n",
    "optimizer: tf.keras.optimizers.Optimizer) -> Tuple[tf.Tensor, tf.Tensor]:\n",
    "  with tf.GradientTape() as tape:\n",
    "    y_prime = model(X, training=True)\n",
    "    loss = loss_fn(y, y_prime)\n",
    "\n",
    "  grads = tape.gradient(loss, model.trainable_variables)\n",
    "  optimizer.apply_gradients(zip(grads, model.trainable_variables))\n",
    "\n",
    "  return (y_prime, loss)\n",
    "\n",
    "\n",
    "def fit(dataset: tf.data.Dataset, model: tf.keras.Model, loss_fn: tf.keras.losses.Loss, \n",
    "optimizer: tf.optimizers.Optimizer) -> None:\n",
    "  batch_count = len(dataset)\n",
    "  loss_sum = 0\n",
    "  correct_item_count = 0\n",
    "  current_item_count = 0\n",
    "  print_every = 100\n",
    "\n",
    "  for batch_index, (X, y) in enumerate(dataset):\n",
    "    (y_prime, loss) = fit_one_batch(X, y, model, loss_fn, optimizer)\n",
    "\n",
    "    y = tf.cast(y, tf.int64)\n",
    "    correct_item_count += (tf.math.argmax(y_prime, axis=1) == y).numpy().sum()\n",
    "\n",
    "    batch_loss = loss.numpy()\n",
    "    loss_sum += batch_loss\n",
    "    current_item_count += len(X)\n",
    "\n",
    "    if ((batch_index + 1) % print_every == 0) or ((batch_index + 1) == batch_count):\n",
    "      batch_accuracy = correct_item_count / current_item_count * 100\n",
    "      print(f'[Batch {batch_index + 1:>3d} - {current_item_count:>5d} items] accuracy: {batch_accuracy:>0.1f}%, loss: {batch_loss:>7f}')\n",
    "\n",
    "\n",
    "learning_rate = 0.1\n",
    "batch_size = 64\n",
    "epochs = 2\n",
    "\n",
    "(train_dataset, test_dataset) = get_data(batch_size)\n",
    "\n",
    "model = get_model()\n",
    "\n",
    "loss_fn = tf.keras.losses.SparseCategoricalCrossentropy(from_logits=True)\n",
    "optimizer = tf.optimizers.SGD(learning_rate)\n",
    "\n",
    "print('\\nFitting:')\n",
    "t_begin = time.time()\n",
    "for epoch in range(epochs):\n",
    "  print(f'\\nEpoch {epoch + 1}\\n-------------------------------')\n",
    "  fit(train_dataset, model, loss_fn, optimizer)\n",
    "t_elapsed = time.time() - t_begin\n",
    "print(f'\\nTime per epoch: {t_elapsed / epochs :>.3f} sec' )"
   ],
   "outputs": [
    {
     "output_type": "stream",
     "name": "stdout",
     "text": [
      "\n",
      "Fitting:\n",
      "\n",
      "Epoch 1\n",
      "-------------------------------\n",
      "[Batch 100 -  6400 items] accuracy: 67.2%, loss: 0.806799\n",
      "[Batch 200 - 12800 items] accuracy: 72.3%, loss: 0.624786\n",
      "[Batch 300 - 19200 items] accuracy: 74.7%, loss: 0.638929\n",
      "[Batch 400 - 25600 items] accuracy: 76.1%, loss: 0.397606\n",
      "[Batch 500 - 32000 items] accuracy: 77.2%, loss: 0.702730\n",
      "[Batch 600 - 38368 items] accuracy: 78.0%, loss: 0.773377\n",
      "[Batch 700 - 44768 items] accuracy: 78.9%, loss: 0.342358\n",
      "[Batch 800 - 51168 items] accuracy: 79.4%, loss: 0.341566\n",
      "[Batch 900 - 57568 items] accuracy: 79.9%, loss: 0.350611\n",
      "[Batch 938 - 60000 items] accuracy: 80.1%, loss: 0.431731\n",
      "\n",
      "Epoch 2\n",
      "-------------------------------\n",
      "[Batch 100 -  6400 items] accuracy: 85.6%, loss: 0.529302\n",
      "[Batch 200 - 12800 items] accuracy: 85.1%, loss: 0.458260\n",
      "[Batch 300 - 19200 items] accuracy: 84.9%, loss: 0.528943\n",
      "[Batch 400 - 25600 items] accuracy: 85.1%, loss: 0.699493\n",
      "[Batch 500 - 32000 items] accuracy: 85.2%, loss: 0.638139\n",
      "[Batch 600 - 38400 items] accuracy: 85.3%, loss: 0.450249\n",
      "[Batch 700 - 44768 items] accuracy: 85.5%, loss: 0.342431\n",
      "[Batch 800 - 51168 items] accuracy: 85.5%, loss: 0.368226\n",
      "[Batch 900 - 57568 items] accuracy: 85.6%, loss: 0.320703\n",
      "[Batch 938 - 60000 items] accuracy: 85.6%, loss: 0.431464\n",
      "\n",
      "Time per epoch: 8.260 sec\n"
     ]
    }
   ],
   "metadata": {}
  },
  {
   "cell_type": "markdown",
   "source": [
    "Notice that we also add a timer, and print the time it takes to train. You can comment and uncomment the `@tf.function` decorator, and notice the difference between the elapsed times. On my machine, eager execution takes more than twice the amount of time to train, compared to graph execution.\n",
    "\n",
    "Now that we've trained our model, we're ready to test it, which we can do by running a single pass forward through the network. The function `evaluate_one_batch` contains the code that does this: we simply need to call the `model` to get a prediction, followed by the loss function `loss_fn` to get a score for how the predicted labels `y_prime` compare to the actual labels `y`. Notice that we don't add a `tf.GradientTape()` this time &mdash; that's because, since we don't do a backward pass during testing, we don't need to calculate derivatives for gradient descent. Notice also that we added a `@tf.function` decorator once we were done with development and debugging, to get a performance boost.  "
   ],
   "metadata": {}
  },
  {
   "cell_type": "code",
   "execution_count": 8,
   "source": [
    "@tf.function\n",
    "def evaluate_one_batch(X: tf.Tensor, y: tf.Tensor, model: tf.keras.Model, \n",
    "loss_fn: tf.keras.losses.Loss) -> Tuple[tf.Tensor, tf.Tensor]:\n",
    "  y_prime = model(X, training=False)\n",
    "  loss = loss_fn(y, y_prime)\n",
    "\n",
    "  return (y_prime, loss)"
   ],
   "outputs": [],
   "metadata": {}
  },
  {
   "cell_type": "markdown",
   "source": [
    "The `evaluate` function calls the `evaluate_one_batch` function for the entire dataset, once per mini-batch. The important code in the function below is just the `for` loop and the call to `evaluate_one_batch` within it &mdash; the rest is just boilerplate code to print progress during execution."
   ],
   "metadata": {}
  },
  {
   "cell_type": "code",
   "execution_count": 9,
   "source": [
    "def evaluate(dataset: tf.data.Dataset, model: tf.keras.Model, \n",
    "loss_fn: tf.keras.losses.Loss) -> Tuple[float, float]:\n",
    "  batch_count = len(dataset)\n",
    "  loss_sum = 0\n",
    "  correct_item_count = 0\n",
    "  current_item_count = 0\n",
    "\n",
    "  for (X, y) in dataset:\n",
    "    (y_prime, loss) = evaluate_one_batch(X, y, model, loss_fn)\n",
    "\n",
    "    correct_item_count += (tf.math.argmax(y_prime, axis=1).numpy() == y.numpy()).sum()\n",
    "    loss_sum += loss.numpy()\n",
    "    current_item_count += len(X)\n",
    "\n",
    "  average_loss = loss_sum / batch_count\n",
    "  accuracy = correct_item_count / current_item_count\n",
    "  return (average_loss, accuracy)"
   ],
   "outputs": [],
   "metadata": {}
  },
  {
   "cell_type": "markdown",
   "source": [
    "And finally, we print the test loss and accuracy, and save the learned model parameters."
   ],
   "metadata": {}
  },
  {
   "cell_type": "code",
   "execution_count": 10,
   "source": [
    "print('\\nEvaluating:')\n",
    "(test_loss, test_accuracy) = evaluate(test_dataset, model, loss_fn)\n",
    "print(f'Test accuracy: {test_accuracy * 100:>0.1f}%, test loss: {test_loss:>8f}')\n",
    "\n",
    "model.save_weights('outputs/weights')"
   ],
   "outputs": [
    {
     "output_type": "stream",
     "name": "stdout",
     "text": [
      "\n",
      "Evaluating:\n",
      "Test accuracy: 84.9%, test loss: 0.419172\n"
     ]
    }
   ],
   "metadata": {}
  },
  {
   "cell_type": "markdown",
   "source": [
    "Hopefully the test loss and accuracy you obtained are similar to the training loss and accuracy you obtained earlier. In this case they should be, but if that's not the case in your future projects, you may need to adjust your data or model. "
   ],
   "metadata": {}
  }
 ],
 "metadata": {
  "interpreter": {
   "hash": "a7d8d32a02de2fe32a77a4e581138922e011c09664b6c2991156e76c4176efab"
  },
  "kernelspec": {
   "name": "python3",
   "display_name": "Python 3.8.10 64-bit ('fashion-tf': conda)"
  },
  "language_info": {
   "codemirror_mode": {
    "name": "ipython",
    "version": 3
   },
   "file_extension": ".py",
   "mimetype": "text/x-python",
   "name": "python",
   "nbconvert_exporter": "python",
   "pygments_lexer": "ipython3",
   "version": "3.8.10"
  },
  "orig_nbformat": 4
 },
 "nbformat": 4,
 "nbformat_minor": 2
}